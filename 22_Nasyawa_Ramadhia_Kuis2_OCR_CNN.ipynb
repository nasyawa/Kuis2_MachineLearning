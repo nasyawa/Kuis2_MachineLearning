{
  "cells": [
    {
      "cell_type": "markdown",
      "metadata": {
        "id": "view-in-github",
        "colab_type": "text"
      },
      "source": [
        "<a href=\"https://colab.research.google.com/github/nasyawa/Kuis2_MachineLearning/blob/main/22_Nasyawa_Ramadhia_Kuis2_OCR_CNN.ipynb\" target=\"_parent\"><img src=\"https://colab.research.google.com/assets/colab-badge.svg\" alt=\"Open In Colab\"/></a>"
      ]
    },
    {
      "cell_type": "markdown",
      "metadata": {
        "id": "mK8Nuxg1_qk-"
      },
      "source": [
        "## **Kuis 2 Machine Learning**\n",
        "\n",
        "**Nasyawa Ramadhia Kirana Sava E // 2141720011 // 22**"
      ]
    },
    {
      "cell_type": "markdown",
      "metadata": {
        "id": "fLV1Z5_Za3Ni"
      },
      "source": [
        "# Import Library"
      ]
    },
    {
      "cell_type": "code",
      "execution_count": null,
      "metadata": {
        "id": "TUhYpAeEarrV"
      },
      "outputs": [],
      "source": [
        "import tensorflow as tf  #untuk komputasi numerik dan pengmbangan model\n",
        "import numpy as np  #untuk komputasi numerik dalam python dan struktur data array\n",
        "import pandas as pd #untuk mengatur/manipulasi dan analisis data\n",
        "import matplotlib.pyplot as plt #membuat visualisai grafik,plot\n",
        "import seaborn as sns #pembuatan visualisasi data yang lebih menarik dan informatif\n",
        "from sklearn.preprocessing import LabelBinarizer #untuk mengonversi label kategori menjadi biner\n",
        "from sklearn.model_selection import train_test_split # pemisahan datset jd subtraining/testing\n",
        "from sklearn.metrics import classification_report #mencetak laporan eval klasifikasi\n",
        "import zipfile #mengekstrak/membuat file zip di python"
      ]
    },
    {
      "cell_type": "markdown",
      "metadata": {
        "id": "nStBNvRCtZdt"
      },
      "source": [
        "**penjelasan:**\n",
        "Mengimpor beberapa pustaka dan modul"
      ]
    },
    {
      "cell_type": "markdown",
      "metadata": {
        "id": "N95oXMaTcnMH"
      },
      "source": [
        "# Load Dataset"
      ]
    },
    {
      "cell_type": "markdown",
      "metadata": {
        "id": "dT8TY908cpCK"
      },
      "source": [
        "## Load MNIST"
      ]
    },
    {
      "cell_type": "code",
      "execution_count": null,
      "metadata": {
        "id": "OIZx2pkUcfDe"
      },
      "outputs": [],
      "source": [
        "from tensorflow.keras.datasets import mnist"
      ]
    },
    {
      "cell_type": "markdown",
      "metadata": {
        "id": "s6V3H07P28wZ"
      },
      "source": [
        "**penjelasan:**\n",
        "Mengimpor dataset MNIST dari pustaka TensorFlow, dataset ini uda disediakan scara default."
      ]
    },
    {
      "cell_type": "code",
      "execution_count": null,
      "metadata": {
        "colab": {
          "base_uri": "https://localhost:8080/"
        },
        "id": "3GLkzBi6czj4",
        "outputId": "5189680e-3771-4f7d-b8a6-a30b310470c5"
      },
      "outputs": [
        {
          "name": "stdout",
          "output_type": "stream",
          "text": [
            "Downloading data from https://storage.googleapis.com/tensorflow/tf-keras-datasets/mnist.npz\n",
            "11490434/11490434 [==============================] - 0s 0us/step\n"
          ]
        }
      ],
      "source": [
        "(train_data, train_labels), (test_data, test_labels) = mnist.load_data()"
      ]
    },
    {
      "cell_type": "markdown",
      "metadata": {
        "id": "0grmXiGl3RLp"
      },
      "source": [
        "**penjelasan:**\n",
        "\n",
        "traindata trainlabel ini data latihan yg terdiri dari gambar/tulisan angka\n",
        "\n",
        "testdata, testlabel ini data ujinya\n",
        "\n",
        "mnistloaddata, mengakses data dan siapa melatih menguji model"
      ]
    },
    {
      "cell_type": "code",
      "execution_count": null,
      "metadata": {
        "colab": {
          "base_uri": "https://localhost:8080/"
        },
        "id": "oVQTyPgAc5Zw",
        "outputId": "9e8ecf33-cbfd-474b-b064-27da2b36d02c"
      },
      "outputs": [
        {
          "data": {
            "text/plain": [
              "((60000, 28, 28), (10000, 28, 28))"
            ]
          },
          "execution_count": 19,
          "metadata": {},
          "output_type": "execute_result"
        }
      ],
      "source": [
        "# Check shape data\n",
        "(train_data.shape, test_data.shape)"
      ]
    },
    {
      "cell_type": "markdown",
      "metadata": {
        "id": "imOwW9uO3z-e"
      },
      "source": [
        "**penjelasan:**\n",
        "menampilkan bentuk/dimensi dari data latihan (train_data) dan data uji (test_data) yang telah dimuat dari dataset MNIST\n",
        "\n",
        "hasilnya train_data = (60000, 28, 28)\n",
        "maka,  terdapat 60,000 gambar dalam data latihan, di mana setiap gambar memiliki dimensi 28x28 piksel\n",
        "\n",
        "hasilnya test_data = (10000, 28, 28)\n",
        "maka, 10,000 gambar dalam data uji, dg dimensi 28x28 piksel untuk setiap gambar."
      ]
    },
    {
      "cell_type": "code",
      "execution_count": null,
      "metadata": {
        "colab": {
          "base_uri": "https://localhost:8080/"
        },
        "id": "grUhLPwJc-un",
        "outputId": "2027c524-d7d8-4d7c-8efb-26b912e17fc8"
      },
      "outputs": [
        {
          "data": {
            "text/plain": [
              "((60000,), (10000,))"
            ]
          },
          "execution_count": 20,
          "metadata": {},
          "output_type": "execute_result"
        }
      ],
      "source": [
        "# Check shape labels\n",
        "(train_labels.shape, test_labels.shape)"
      ]
    },
    {
      "cell_type": "markdown",
      "metadata": {
        "id": "Sq3o2rNY4zoF"
      },
      "source": [
        "**penjelasan:**\n",
        "memeriksa dimensi atau jumlah label pada data latih dan data uji.\n",
        "\n",
        "(60000) ini, terdapat 60,000 label yang sesuai dengan 60,000 gambar dalam data latihan\n",
        "\n",
        "(10000) ini, terdapat 10,000 label yang sesuai dengan 10,000 gambar dalam data uji."
      ]
    },
    {
      "cell_type": "code",
      "execution_count": null,
      "metadata": {
        "colab": {
          "base_uri": "https://localhost:8080/"
        },
        "id": "AwsTEu6xdNKX",
        "outputId": "50bd594f-b811-4b3c-e9ee-b7c6f743416a"
      },
      "outputs": [
        {
          "data": {
            "text/plain": [
              "(28, 28)"
            ]
          },
          "execution_count": 21,
          "metadata": {},
          "output_type": "execute_result"
        }
      ],
      "source": [
        "# Check each data shape --> should be 28*28\n",
        "train_data[0].shape"
      ]
    },
    {
      "cell_type": "markdown",
      "metadata": {
        "id": "iJ_Kbcya5g0g"
      },
      "source": [
        "**penjelasan:**\n",
        "untuk ngecek dimensi/bentuk\n",
        "\n",
        "hasil diatas menunjukan bahwa data latihan (train_data) memiliki dimensi 28x28 pikse"
      ]
    },
    {
      "cell_type": "code",
      "execution_count": null,
      "metadata": {
        "colab": {
          "base_uri": "https://localhost:8080/"
        },
        "id": "KHZesdnBdXKX",
        "outputId": "95ed425e-2022-4bb1-dccd-3208059ff003"
      },
      "outputs": [
        {
          "data": {
            "text/plain": [
              "(60000,)"
            ]
          },
          "execution_count": 22,
          "metadata": {},
          "output_type": "execute_result"
        }
      ],
      "source": [
        "# Check the label\n",
        "train_labels.shape"
      ]
    },
    {
      "cell_type": "markdown",
      "metadata": {
        "id": "7pXKtCH_6E7O"
      },
      "source": [
        "hasil diatas menunjukkan bahwa terdapat 60,000 label dalam dataset latihan."
      ]
    },
    {
      "cell_type": "markdown",
      "metadata": {
        "id": "SYz8IjnOdfsV"
      },
      "source": [
        "### Combine Train and Test Data"
      ]
    },
    {
      "cell_type": "code",
      "execution_count": null,
      "metadata": {
        "id": "yacSZjdPdbhs"
      },
      "outputs": [],
      "source": [
        "digits_data = np.vstack([train_data, test_data])\n",
        "digits_labels = np.hstack([train_labels, test_labels])"
      ]
    },
    {
      "cell_type": "markdown",
      "metadata": {
        "id": "GPjGyk6G6V8g"
      },
      "source": [
        "**penjelasan:**\n",
        "\n",
        "menggabungkan data dari dataset\n",
        "\n",
        "- digitdata = dari gabungan data latih dan data uji\n",
        "- digitlabel = gabungan seluruh label\n",
        "\n",
        "kode:\n",
        "- np.vstack = fungsi numpy yang melakukan penggabungan secara **v**ertikal\n",
        "- np.hstack = fungsi numpy yg penggabungan **h**orizontal"
      ]
    },
    {
      "cell_type": "code",
      "execution_count": null,
      "metadata": {
        "colab": {
          "base_uri": "https://localhost:8080/"
        },
        "id": "oRBvQNVUeHZn",
        "outputId": "de923c33-5580-4d63-a198-2c81503f3c9f"
      },
      "outputs": [
        {
          "data": {
            "text/plain": [
              "(70000, 28, 28)"
            ]
          },
          "execution_count": 24,
          "metadata": {},
          "output_type": "execute_result"
        }
      ],
      "source": [
        "# Check data shape\n",
        "digits_data.shape"
      ]
    },
    {
      "cell_type": "markdown",
      "metadata": {
        "id": "Sjmh4zaS666f"
      },
      "source": [
        "**penjelasan:**\n",
        "\n",
        "kode ini melihat/mengecek dimensi dari data gabungan\n",
        "\n",
        "maksud dari hasil (70000,28,28) :\n",
        "- digit_data punya bentuk yg 70000 gambar dg pixel tiap gambar 28x28\n"
      ]
    },
    {
      "cell_type": "code",
      "execution_count": null,
      "metadata": {
        "colab": {
          "base_uri": "https://localhost:8080/"
        },
        "id": "MZbUcu0MeLSG",
        "outputId": "f219af66-07b9-49d2-d2a6-2110a7fe8d4a"
      },
      "outputs": [
        {
          "data": {
            "text/plain": [
              "(70000,)"
            ]
          },
          "execution_count": 25,
          "metadata": {},
          "output_type": "execute_result"
        }
      ],
      "source": [
        "# Check label shape\n",
        "digits_labels.shape"
      ]
    },
    {
      "cell_type": "markdown",
      "metadata": {
        "id": "eV9ygLyt8WGU"
      },
      "source": [
        "hasil diatas menunjukan : digits_labels sekarang memiliki bentuk yang terdiri dari 70,000 label. Angka 70,000 adalah hasil dari penggabungan 60,000 label dari dataset latihan dan 10,000 label dari dataset uji."
      ]
    },
    {
      "cell_type": "code",
      "execution_count": null,
      "metadata": {
        "colab": {
          "base_uri": "https://localhost:8080/",
          "height": 469
        },
        "id": "uqaiC0pGePF-",
        "outputId": "8c12741d-4dea-4f36-f50b-34452c165b30"
      },
      "outputs": [
        {
          "data": {
            "text/plain": [
              "Text(0.5, 1.0, 'Class: 9')"
            ]
          },
          "execution_count": 26,
          "metadata": {},
          "output_type": "execute_result"
        },
        {
          "data": {
            "image/png": "[encoded data removed]",
            "text/plain": [
              "<Figure size 640x480 with 1 Axes>"
            ]
          },
          "metadata": {},
          "output_type": "display_data"
        }
      ],
      "source": [
        "# Randomly checking the data\n",
        "idx = np.random.randint(0, digits_data.shape[0])\n",
        "plt.imshow(digits_data[idx], cmap='gray')\n",
        "plt.title('Class: ' + str(digits_labels[idx]))"
      ]
    },
    {
      "cell_type": "markdown",
      "metadata": {
        "id": "siQcXjSG8q_T"
      },
      "source": [
        "**penjelasan**\n",
        "\n",
        "dengan kode ini, akan menampilkan gambar secara acak dari dataset (digit_data) dan lenlnya (digit_label)\n",
        "\n",
        "idx = memilih scara acak  indeks dri dataset\n",
        "pltimshow= menampilkan\n",
        "plttitle = memberi judul"
      ]
    },
    {
      "cell_type": "code",
      "execution_count": null,
      "metadata": {
        "colab": {
          "base_uri": "https://localhost:8080/",
          "height": 466
        },
        "id": "FrLWteorevqd",
        "outputId": "a338b6ce-f3ea-4dc8-8fed-651702c60023"
      },
      "outputs": [
        {
          "data": {
            "text/plain": [
              "<Axes: xlabel='Labels', ylabel='count'>"
            ]
          },
          "execution_count": 27,
          "metadata": {},
          "output_type": "execute_result"
        },
        {
          "data": {
            "image/png": "[encoded data removed]",
            "text/plain": [
              "<Figure size 640x480 with 1 Axes>"
            ]
          },
          "metadata": {},
          "output_type": "display_data"
        }
      ],
      "source": [
        "# Check data distribution\n",
        "df_labels = pd.DataFrame(digits_labels, columns=['Labels'])\n",
        "sns.countplot(df_labels, x='Labels')"
      ]
    },
    {
      "cell_type": "markdown",
      "metadata": {
        "id": "fqLB8Oe3-Epw"
      },
      "source": [
        "**penjelasan:**\n",
        "\n",
        "kode ini menampilkan distribusi label memberikan gambaran visual berupa diagram batang\n",
        "\n",
        "dengan ini kita bisa mengetahui apakah dataset memiliki distribusi yang seimbang antara kelas-kelas digit.\n",
        "\n",
        "Dan dari hasil diatas, relatif seimbang\n",
        "\n"
      ]
    },
    {
      "cell_type": "markdown",
      "metadata": {
        "id": "uqeJT2ytogB_"
      },
      "source": [
        "## Load Kaggle A-Z"
      ]
    },
    {
      "cell_type": "code",
      "execution_count": null,
      "metadata": {
        "colab": {
          "base_uri": "https://localhost:8080/"
        },
        "id": "tQ95CkdfjO7P",
        "outputId": "dced4549-7f66-4ac1-e677-272aa96ff29f"
      },
      "outputs": [
        {
          "name": "stdout",
          "output_type": "stream",
          "text": [
            "--2023-12-05 08:45:31--  https://iaexpert.academy/arquivos/alfabeto_A-Z.zip\n",
            "Resolving iaexpert.academy (iaexpert.academy)... 162.159.134.42\n",
            "Connecting to iaexpert.academy (iaexpert.academy)|162.159.134.42|:443... connected.\n",
            "HTTP request sent, awaiting response... 200 OK\n",
            "Length: 193643888 (185M) [application/zip]\n",
            "Saving to: ‘alfabeto_A-Z.zip’\n",
            "\n",
            "alfabeto_A-Z.zip    100%[===================>] 184.67M   242MB/s    in 0.8s    \n",
            "\n",
            "2023-12-05 08:45:32 (242 MB/s) - ‘alfabeto_A-Z.zip’ saved [193643888/193643888]\n",
            "\n"
          ]
        }
      ],
      "source": [
        "!wget https://iaexpert.academy/arquivos/alfabeto_A-Z.zip"
      ]
    },
    {
      "cell_type": "code",
      "execution_count": null,
      "metadata": {
        "id": "TobpFNSsojcv"
      },
      "outputs": [],
      "source": [
        "# Extract zip file\n",
        "zip_object = zipfile.ZipFile(file = 'alfabeto_A-Z.zip', mode = 'r')\n",
        "zip_object.extractall('./')\n",
        "zip_object.close() #menutup objek zip yang telah dibuka"
      ]
    },
    {
      "cell_type": "markdown",
      "metadata": {
        "id": "N-BOQPm0AaUb"
      },
      "source": [
        "**penjelasan:**\n",
        "\n",
        "Mengekstrak / Meng-unzip file alfabeto_A-Z.zip\n",
        "- ZipFile() dari pustaka zipfile, untukmembuat objek yang merepresentasikan file zip\n",
        "- metode extractall(), untuk mengekstrak semua isi dari file zip\n",
        "\n",
        "\n"
      ]
    },
    {
      "cell_type": "code",
      "execution_count": null,
      "metadata": {
        "colab": {
          "base_uri": "https://localhost:8080/",
          "height": 423
        },
        "id": "ScBURU_4o5bB",
        "outputId": "2e739594-dec1-4c5d-d496-b278a7a460f0"
      },
      "outputs": [
        {
          "data": {
            "text/html": [
              "\n",
              "  <div id=\"df-283cd7ea-7efd-4840-8844-3d813f854f94\" class=\"colab-df-container\">\n",
              "    <div>\n",
              "<style scoped>\n",
              "    .dataframe tbody tr th:only-of-type {\n",
              "        vertical-align: middle;\n",
              "    }\n",
              "\n",
              "    .dataframe tbody tr th {\n",
              "        vertical-align: top;\n",
              "    }\n",
              "\n",
              "    .dataframe thead th {\n",
              "        text-align: right;\n",
              "    }\n",
              "</style>\n",
              "<table border=\"1\" class=\"dataframe\">\n",
              "  <thead>\n",
              "    <tr style=\"text-align: right;\">\n",
              "      <th></th>\n",
              "      <th>0</th>\n",
              "      <th>0.1</th>\n",
              "      <th>0.2</th>\n",
              "      <th>0.3</th>\n",
              "      <th>0.4</th>\n",
              "      <th>0.5</th>\n",
              "      <th>0.6</th>\n",
              "      <th>0.7</th>\n",
              "      <th>0.8</th>\n",
              "      <th>0.9</th>\n",
              "      <th>...</th>\n",
              "      <th>0.639</th>\n",
              "      <th>0.640</th>\n",
              "      <th>0.641</th>\n",
              "      <th>0.642</th>\n",
              "      <th>0.643</th>\n",
              "      <th>0.644</th>\n",
              "      <th>0.645</th>\n",
              "      <th>0.646</th>\n",
              "      <th>0.647</th>\n",
              "      <th>0.648</th>\n",
              "    </tr>\n",
              "  </thead>\n",
              "  <tbody>\n",
              "    <tr>\n",
              "      <th>0</th>\n",
              "      <td>0.0</td>\n",
              "      <td>0.0</td>\n",
              "      <td>0.0</td>\n",
              "      <td>0.0</td>\n",
              "      <td>0.0</td>\n",
              "      <td>0.0</td>\n",
              "      <td>0.0</td>\n",
              "      <td>0.0</td>\n",
              "      <td>0.0</td>\n",
              "      <td>0.0</td>\n",
              "      <td>...</td>\n",
              "      <td>0.0</td>\n",
              "      <td>0.0</td>\n",
              "      <td>0.0</td>\n",
              "      <td>0.0</td>\n",
              "      <td>0.0</td>\n",
              "      <td>0.0</td>\n",
              "      <td>0.0</td>\n",
              "      <td>0.0</td>\n",
              "      <td>0.0</td>\n",
              "      <td>0.0</td>\n",
              "    </tr>\n",
              "    <tr>\n",
              "      <th>1</th>\n",
              "      <td>0.0</td>\n",
              "      <td>0.0</td>\n",
              "      <td>0.0</td>\n",
              "      <td>0.0</td>\n",
              "      <td>0.0</td>\n",
              "      <td>0.0</td>\n",
              "      <td>0.0</td>\n",
              "      <td>0.0</td>\n",
              "      <td>0.0</td>\n",
              "      <td>0.0</td>\n",
              "      <td>...</td>\n",
              "      <td>0.0</td>\n",
              "      <td>0.0</td>\n",
              "      <td>0.0</td>\n",
              "      <td>0.0</td>\n",
              "      <td>0.0</td>\n",
              "      <td>0.0</td>\n",
              "      <td>0.0</td>\n",
              "      <td>0.0</td>\n",
              "      <td>0.0</td>\n",
              "      <td>0.0</td>\n",
              "    </tr>\n",
              "    <tr>\n",
              "      <th>2</th>\n",
              "      <td>0.0</td>\n",
              "      <td>0.0</td>\n",
              "      <td>0.0</td>\n",
              "      <td>0.0</td>\n",
              "      <td>0.0</td>\n",
              "      <td>0.0</td>\n",
              "      <td>0.0</td>\n",
              "      <td>0.0</td>\n",
              "      <td>0.0</td>\n",
              "      <td>0.0</td>\n",
              "      <td>...</td>\n",
              "      <td>0.0</td>\n",
              "      <td>0.0</td>\n",
              "      <td>0.0</td>\n",
              "      <td>0.0</td>\n",
              "      <td>0.0</td>\n",
              "      <td>0.0</td>\n",
              "      <td>0.0</td>\n",
              "      <td>0.0</td>\n",
              "      <td>0.0</td>\n",
              "      <td>0.0</td>\n",
              "    </tr>\n",
              "    <tr>\n",
              "      <th>3</th>\n",
              "      <td>0.0</td>\n",
              "      <td>0.0</td>\n",
              "      <td>0.0</td>\n",
              "      <td>0.0</td>\n",
              "      <td>0.0</td>\n",
              "      <td>0.0</td>\n",
              "      <td>0.0</td>\n",
              "      <td>0.0</td>\n",
              "      <td>0.0</td>\n",
              "      <td>0.0</td>\n",
              "      <td>...</td>\n",
              "      <td>0.0</td>\n",
              "      <td>0.0</td>\n",
              "      <td>0.0</td>\n",
              "      <td>0.0</td>\n",
              "      <td>0.0</td>\n",
              "      <td>0.0</td>\n",
              "      <td>0.0</td>\n",
              "      <td>0.0</td>\n",
              "      <td>0.0</td>\n",
              "      <td>0.0</td>\n",
              "    </tr>\n",
              "    <tr>\n",
              "      <th>4</th>\n",
              "      <td>0.0</td>\n",
              "      <td>0.0</td>\n",
              "      <td>0.0</td>\n",
              "      <td>0.0</td>\n",
              "      <td>0.0</td>\n",
              "      <td>0.0</td>\n",
              "      <td>0.0</td>\n",
              "      <td>0.0</td>\n",
              "      <td>0.0</td>\n",
              "      <td>0.0</td>\n",
              "      <td>...</td>\n",
              "      <td>0.0</td>\n",
              "      <td>0.0</td>\n",
              "      <td>0.0</td>\n",
              "      <td>0.0</td>\n",
              "      <td>0.0</td>\n",
              "      <td>0.0</td>\n",
              "      <td>0.0</td>\n",
              "      <td>0.0</td>\n",
              "      <td>0.0</td>\n",
              "      <td>0.0</td>\n",
              "    </tr>\n",
              "    <tr>\n",
              "      <th>...</th>\n",
              "      <td>...</td>\n",
              "      <td>...</td>\n",
              "      <td>...</td>\n",
              "      <td>...</td>\n",
              "      <td>...</td>\n",
              "      <td>...</td>\n",
              "      <td>...</td>\n",
              "      <td>...</td>\n",
              "      <td>...</td>\n",
              "      <td>...</td>\n",
              "      <td>...</td>\n",
              "      <td>...</td>\n",
              "      <td>...</td>\n",
              "      <td>...</td>\n",
              "      <td>...</td>\n",
              "      <td>...</td>\n",
              "      <td>...</td>\n",
              "      <td>...</td>\n",
              "      <td>...</td>\n",
              "      <td>...</td>\n",
              "      <td>...</td>\n",
              "    </tr>\n",
              "    <tr>\n",
              "      <th>372445</th>\n",
              "      <td>25.0</td>\n",
              "      <td>0.0</td>\n",
              "      <td>0.0</td>\n",
              "      <td>0.0</td>\n",
              "      <td>0.0</td>\n",
              "      <td>0.0</td>\n",
              "      <td>0.0</td>\n",
              "      <td>0.0</td>\n",
              "      <td>0.0</td>\n",
              "      <td>0.0</td>\n",
              "      <td>...</td>\n",
              "      <td>0.0</td>\n",
              "      <td>0.0</td>\n",
              "      <td>0.0</td>\n",
              "      <td>0.0</td>\n",
              "      <td>0.0</td>\n",
              "      <td>0.0</td>\n",
              "      <td>0.0</td>\n",
              "      <td>0.0</td>\n",
              "      <td>0.0</td>\n",
              "      <td>0.0</td>\n",
              "    </tr>\n",
              "    <tr>\n",
              "      <th>372446</th>\n",
              "      <td>25.0</td>\n",
              "      <td>0.0</td>\n",
              "      <td>0.0</td>\n",
              "      <td>0.0</td>\n",
              "      <td>0.0</td>\n",
              "      <td>0.0</td>\n",
              "      <td>0.0</td>\n",
              "      <td>0.0</td>\n",
              "      <td>0.0</td>\n",
              "      <td>0.0</td>\n",
              "      <td>...</td>\n",
              "      <td>0.0</td>\n",
              "      <td>0.0</td>\n",
              "      <td>0.0</td>\n",
              "      <td>0.0</td>\n",
              "      <td>0.0</td>\n",
              "      <td>0.0</td>\n",
              "      <td>0.0</td>\n",
              "      <td>0.0</td>\n",
              "      <td>0.0</td>\n",
              "      <td>0.0</td>\n",
              "    </tr>\n",
              "    <tr>\n",
              "      <th>372447</th>\n",
              "      <td>25.0</td>\n",
              "      <td>0.0</td>\n",
              "      <td>0.0</td>\n",
              "      <td>0.0</td>\n",
              "      <td>0.0</td>\n",
              "      <td>0.0</td>\n",
              "      <td>0.0</td>\n",
              "      <td>0.0</td>\n",
              "      <td>0.0</td>\n",
              "      <td>0.0</td>\n",
              "      <td>...</td>\n",
              "      <td>0.0</td>\n",
              "      <td>0.0</td>\n",
              "      <td>0.0</td>\n",
              "      <td>0.0</td>\n",
              "      <td>0.0</td>\n",
              "      <td>0.0</td>\n",
              "      <td>0.0</td>\n",
              "      <td>0.0</td>\n",
              "      <td>0.0</td>\n",
              "      <td>0.0</td>\n",
              "    </tr>\n",
              "    <tr>\n",
              "      <th>372448</th>\n",
              "      <td>25.0</td>\n",
              "      <td>0.0</td>\n",
              "      <td>0.0</td>\n",
              "      <td>0.0</td>\n",
              "      <td>0.0</td>\n",
              "      <td>0.0</td>\n",
              "      <td>0.0</td>\n",
              "      <td>0.0</td>\n",
              "      <td>0.0</td>\n",
              "      <td>0.0</td>\n",
              "      <td>...</td>\n",
              "      <td>0.0</td>\n",
              "      <td>0.0</td>\n",
              "      <td>0.0</td>\n",
              "      <td>0.0</td>\n",
              "      <td>0.0</td>\n",
              "      <td>0.0</td>\n",
              "      <td>0.0</td>\n",
              "      <td>0.0</td>\n",
              "      <td>0.0</td>\n",
              "      <td>0.0</td>\n",
              "    </tr>\n",
              "    <tr>\n",
              "      <th>372449</th>\n",
              "      <td>25.0</td>\n",
              "      <td>0.0</td>\n",
              "      <td>0.0</td>\n",
              "      <td>0.0</td>\n",
              "      <td>0.0</td>\n",
              "      <td>0.0</td>\n",
              "      <td>0.0</td>\n",
              "      <td>0.0</td>\n",
              "      <td>0.0</td>\n",
              "      <td>0.0</td>\n",
              "      <td>...</td>\n",
              "      <td>0.0</td>\n",
              "      <td>0.0</td>\n",
              "      <td>0.0</td>\n",
              "      <td>0.0</td>\n",
              "      <td>0.0</td>\n",
              "      <td>0.0</td>\n",
              "      <td>0.0</td>\n",
              "      <td>0.0</td>\n",
              "      <td>0.0</td>\n",
              "      <td>0.0</td>\n",
              "    </tr>\n",
              "  </tbody>\n",
              "</table>\n",
              "<p>372450 rows × 785 columns</p>\n",
              "</div>\n",
              "    <div class=\"colab-df-buttons\">\n",
              "\n",
              "  <div class=\"colab-df-container\">\n",
              "    <button class=\"colab-df-convert\" onclick=\"convertToInteractive('df-283cd7ea-7efd-4840-8844-3d813f854f94')\"\n",
              "            title=\"Convert this dataframe to an interactive table.\"\n",
              "            style=\"display:none;\">\n",
              "\n",
              "  <svg xmlns=\"http://www.w3.org/2000/svg\" height=\"24px\" viewBox=\"0 -960 960 960\">\n",
              "    <path d=\"M120-120v-720h720v720H120Zm60-500h600v-160H180v160Zm220 220h160v-160H400v160Zm0 220h160v-160H400v160ZM180-400h160v-160H180v160Zm440 0h160v-160H620v160ZM180-180h160v-160H180v160Zm440 0h160v-160H620v160Z\"/>\n",
              "  </svg>\n",
              "    </button>\n",
              "\n",
              "  <style>\n",
              "    .colab-df-container {\n",
              "      display:flex;\n",
              "      gap: 12px;\n",
              "    }\n",
              "\n",
              "    .colab-df-convert {\n",
              "      background-color: #E8F0FE;\n",
              "      border: none;\n",
              "      border-radius: 50%;\n",
              "      cursor: pointer;\n",
              "      display: none;\n",
              "      fill: #1967D2;\n",
              "      height: 32px;\n",
              "      padding: 0 0 0 0;\n",
              "      width: 32px;\n",
              "    }\n",
              "\n",
              "    .colab-df-convert:hover {\n",
              "      background-color: #E2EBFA;\n",
              "      box-shadow: 0px 1px 2px rgba(60, 64, 67, 0.3), 0px 1px 3px 1px rgba(60, 64, 67, 0.15);\n",
              "      fill: #174EA6;\n",
              "    }\n",
              "\n",
              "    .colab-df-buttons div {\n",
              "      margin-bottom: 4px;\n",
              "    }\n",
              "\n",
              "    [theme=dark] .colab-df-convert {\n",
              "      background-color: #3B4455;\n",
              "      fill: #D2E3FC;\n",
              "    }\n",
              "\n",
              "    [theme=dark] .colab-df-convert:hover {\n",
              "      background-color: #434B5C;\n",
              "      box-shadow: 0px 1px 3px 1px rgba(0, 0, 0, 0.15);\n",
              "      filter: drop-shadow(0px 1px 2px rgba(0, 0, 0, 0.3));\n",
              "      fill: #FFFFFF;\n",
              "    }\n",
              "  </style>\n",
              "\n",
              "    <script>\n",
              "      const buttonEl =\n",
              "        document.querySelector('#df-283cd7ea-7efd-4840-8844-3d813f854f94 button.colab-df-convert');\n",
              "      buttonEl.style.display =\n",
              "        google.colab.kernel.accessAllowed ? 'block' : 'none';\n",
              "\n",
              "      async function convertToInteractive(key) {\n",
              "        const element = document.querySelector('#df-283cd7ea-7efd-4840-8844-3d813f854f94');\n",
              "        const dataTable =\n",
              "          await google.colab.kernel.invokeFunction('convertToInteractive',\n",
              "                                                    [key], {});\n",
              "        if (!dataTable) return;\n",
              "\n",
              "        const docLinkHtml = 'Like what you see? Visit the ' +\n",
              "          '<a target=\"_blank\" href=https://colab.research.google.com/notebooks/data_table.ipynb>data table notebook</a>'\n",
              "          + ' to learn more about interactive tables.';\n",
              "        element.innerHTML = '';\n",
              "        dataTable['output_type'] = 'display_data';\n",
              "        await google.colab.output.renderOutput(dataTable, element);\n",
              "        const docLink = document.createElement('div');\n",
              "        docLink.innerHTML = docLinkHtml;\n",
              "        element.appendChild(docLink);\n",
              "      }\n",
              "    </script>\n",
              "  </div>\n",
              "\n",
              "\n",
              "<div id=\"df-f47006ac-2f70-46d4-a362-2eadac071241\">\n",
              "  <button class=\"colab-df-quickchart\" onclick=\"quickchart('df-f47006ac-2f70-46d4-a362-2eadac071241')\"\n",
              "            title=\"Suggest charts\"\n",
              "            style=\"display:none;\">\n",
              "\n",
              "<svg xmlns=\"http://www.w3.org/2000/svg\" height=\"24px\"viewBox=\"0 0 24 24\"\n",
              "     width=\"24px\">\n",
              "    <g>\n",
              "        <path d=\"M19 3H5c-1.1 0-2 .9-2 2v14c0 1.1.9 2 2 2h14c1.1 0 2-.9 2-2V5c0-1.1-.9-2-2-2zM9 17H7v-7h2v7zm4 0h-2V7h2v10zm4 0h-2v-4h2v4z\"/>\n",
              "    </g>\n",
              "</svg>\n",
              "  </button>\n",
              "\n",
              "<style>\n",
              "  .colab-df-quickchart {\n",
              "      --bg-color: #E8F0FE;\n",
              "      --fill-color: #1967D2;\n",
              "      --hover-bg-color: #E2EBFA;\n",
              "      --hover-fill-color: #174EA6;\n",
              "      --disabled-fill-color: #AAA;\n",
              "      --disabled-bg-color: #DDD;\n",
              "  }\n",
              "\n",
              "  [theme=dark] .colab-df-quickchart {\n",
              "      --bg-color: #3B4455;\n",
              "      --fill-color: #D2E3FC;\n",
              "      --hover-bg-color: #434B5C;\n",
              "      --hover-fill-color: #FFFFFF;\n",
              "      --disabled-bg-color: #3B4455;\n",
              "      --disabled-fill-color: #666;\n",
              "  }\n",
              "\n",
              "  .colab-df-quickchart {\n",
              "    background-color: var(--bg-color);\n",
              "    border: none;\n",
              "    border-radius: 50%;\n",
              "    cursor: pointer;\n",
              "    display: none;\n",
              "    fill: var(--fill-color);\n",
              "    height: 32px;\n",
              "    padding: 0;\n",
              "    width: 32px;\n",
              "  }\n",
              "\n",
              "  .colab-df-quickchart:hover {\n",
              "    background-color: var(--hover-bg-color);\n",
              "    box-shadow: 0 1px 2px rgba(60, 64, 67, 0.3), 0 1px 3px 1px rgba(60, 64, 67, 0.15);\n",
              "    fill: var(--button-hover-fill-color);\n",
              "  }\n",
              "\n",
              "  .colab-df-quickchart-complete:disabled,\n",
              "  .colab-df-quickchart-complete:disabled:hover {\n",
              "    background-color: var(--disabled-bg-color);\n",
              "    fill: var(--disabled-fill-color);\n",
              "    box-shadow: none;\n",
              "  }\n",
              "\n",
              "  .colab-df-spinner {\n",
              "    border: 2px solid var(--fill-color);\n",
              "    border-color: transparent;\n",
              "    border-bottom-color: var(--fill-color);\n",
              "    animation:\n",
              "      spin 1s steps(1) infinite;\n",
              "  }\n",
              "\n",
              "  @keyframes spin {\n",
              "    0% {\n",
              "      border-color: transparent;\n",
              "      border-bottom-color: var(--fill-color);\n",
              "      border-left-color: var(--fill-color);\n",
              "    }\n",
              "    20% {\n",
              "      border-color: transparent;\n",
              "      border-left-color: var(--fill-color);\n",
              "      border-top-color: var(--fill-color);\n",
              "    }\n",
              "    30% {\n",
              "      border-color: transparent;\n",
              "      border-left-color: var(--fill-color);\n",
              "      border-top-color: var(--fill-color);\n",
              "      border-right-color: var(--fill-color);\n",
              "    }\n",
              "    40% {\n",
              "      border-color: transparent;\n",
              "      border-right-color: var(--fill-color);\n",
              "      border-top-color: var(--fill-color);\n",
              "    }\n",
              "    60% {\n",
              "      border-color: transparent;\n",
              "      border-right-color: var(--fill-color);\n",
              "    }\n",
              "    80% {\n",
              "      border-color: transparent;\n",
              "      border-right-color: var(--fill-color);\n",
              "      border-bottom-color: var(--fill-color);\n",
              "    }\n",
              "    90% {\n",
              "      border-color: transparent;\n",
              "      border-bottom-color: var(--fill-color);\n",
              "    }\n",
              "  }\n",
              "</style>\n",
              "\n",
              "  <script>\n",
              "    async function quickchart(key) {\n",
              "      const quickchartButtonEl =\n",
              "        document.querySelector('#' + key + ' button');\n",
              "      quickchartButtonEl.disabled = true;  // To prevent multiple clicks.\n",
              "      quickchartButtonEl.classList.add('colab-df-spinner');\n",
              "      try {\n",
              "        const charts = await google.colab.kernel.invokeFunction(\n",
              "            'suggestCharts', [key], {});\n",
              "      } catch (error) {\n",
              "        console.error('Error during call to suggestCharts:', error);\n",
              "      }\n",
              "      quickchartButtonEl.classList.remove('colab-df-spinner');\n",
              "      quickchartButtonEl.classList.add('colab-df-quickchart-complete');\n",
              "    }\n",
              "    (() => {\n",
              "      let quickchartButtonEl =\n",
              "        document.querySelector('#df-f47006ac-2f70-46d4-a362-2eadac071241 button');\n",
              "      quickchartButtonEl.style.display =\n",
              "        google.colab.kernel.accessAllowed ? 'block' : 'none';\n",
              "    })();\n",
              "  </script>\n",
              "</div>\n",
              "    </div>\n",
              "  </div>\n"
            ],
            "text/plain": [
              "           0  0.1  0.2  0.3  0.4  0.5  0.6  0.7  0.8  0.9  ...  0.639  0.640  \\\n",
              "0        0.0  0.0  0.0  0.0  0.0  0.0  0.0  0.0  0.0  0.0  ...    0.0    0.0   \n",
              "1        0.0  0.0  0.0  0.0  0.0  0.0  0.0  0.0  0.0  0.0  ...    0.0    0.0   \n",
              "2        0.0  0.0  0.0  0.0  0.0  0.0  0.0  0.0  0.0  0.0  ...    0.0    0.0   \n",
              "3        0.0  0.0  0.0  0.0  0.0  0.0  0.0  0.0  0.0  0.0  ...    0.0    0.0   \n",
              "4        0.0  0.0  0.0  0.0  0.0  0.0  0.0  0.0  0.0  0.0  ...    0.0    0.0   \n",
              "...      ...  ...  ...  ...  ...  ...  ...  ...  ...  ...  ...    ...    ...   \n",
              "372445  25.0  0.0  0.0  0.0  0.0  0.0  0.0  0.0  0.0  0.0  ...    0.0    0.0   \n",
              "372446  25.0  0.0  0.0  0.0  0.0  0.0  0.0  0.0  0.0  0.0  ...    0.0    0.0   \n",
              "372447  25.0  0.0  0.0  0.0  0.0  0.0  0.0  0.0  0.0  0.0  ...    0.0    0.0   \n",
              "372448  25.0  0.0  0.0  0.0  0.0  0.0  0.0  0.0  0.0  0.0  ...    0.0    0.0   \n",
              "372449  25.0  0.0  0.0  0.0  0.0  0.0  0.0  0.0  0.0  0.0  ...    0.0    0.0   \n",
              "\n",
              "        0.641  0.642  0.643  0.644  0.645  0.646  0.647  0.648  \n",
              "0         0.0    0.0    0.0    0.0    0.0    0.0    0.0    0.0  \n",
              "1         0.0    0.0    0.0    0.0    0.0    0.0    0.0    0.0  \n",
              "2         0.0    0.0    0.0    0.0    0.0    0.0    0.0    0.0  \n",
              "3         0.0    0.0    0.0    0.0    0.0    0.0    0.0    0.0  \n",
              "4         0.0    0.0    0.0    0.0    0.0    0.0    0.0    0.0  \n",
              "...       ...    ...    ...    ...    ...    ...    ...    ...  \n",
              "372445    0.0    0.0    0.0    0.0    0.0    0.0    0.0    0.0  \n",
              "372446    0.0    0.0    0.0    0.0    0.0    0.0    0.0    0.0  \n",
              "372447    0.0    0.0    0.0    0.0    0.0    0.0    0.0    0.0  \n",
              "372448    0.0    0.0    0.0    0.0    0.0    0.0    0.0    0.0  \n",
              "372449    0.0    0.0    0.0    0.0    0.0    0.0    0.0    0.0  \n",
              "\n",
              "[372450 rows x 785 columns]"
            ]
          },
          "execution_count": 30,
          "metadata": {},
          "output_type": "execute_result"
        }
      ],
      "source": [
        "dataset_az = pd.read_csv('A_Z Handwritten Data.csv').astype('float32')\n",
        "dataset_az"
      ]
    },
    {
      "cell_type": "markdown",
      "metadata": {
        "id": "zx0ziCoABWMO"
      },
      "source": [
        "**penjelasan:**\n",
        "\n",
        "membaca file CSV bernama 'A_Z Handwritten Data.csv' dan menyimpannya ke dalam DataFrame Pandas dengan nama dataset_az. Kemudian, seluruh nilai dalam DataFrame tersebut diubah menjadi tipe data float32.\n",
        "\n",
        "Hasil diatas, menunjukan dataset punya 372.450 (row) baris dan 785 (column) kolom"
      ]
    },
    {
      "cell_type": "code",
      "execution_count": null,
      "metadata": {
        "id": "dK6pP0b-o81T"
      },
      "outputs": [],
      "source": [
        "# Get pixel data only\n",
        "alphabet_data = dataset_az.drop('0', axis=1)\n",
        "# Get labels only\n",
        "alphabet_labels = dataset_az['0']"
      ]
    },
    {
      "cell_type": "markdown",
      "metadata": {
        "id": "K97TJUyPBluR"
      },
      "source": [
        "**penjelasan**\n",
        "\n",
        "Dataset dibagi jadi 2 bagian\n",
        "- alphabet_data, berisi data piksel dari gambar huruf tangan\n",
        "- alphabet_labels, berisi label yg sesuai"
      ]
    },
    {
      "cell_type": "code",
      "execution_count": null,
      "metadata": {
        "colab": {
          "base_uri": "https://localhost:8080/"
        },
        "id": "NllEoaiLpZhI",
        "outputId": "b22b078c-ed69-47d2-f725-99ead036609b"
      },
      "outputs": [
        {
          "data": {
            "text/plain": [
              "((372450, 784), (372450,))"
            ]
          },
          "execution_count": 32,
          "metadata": {},
          "output_type": "execute_result"
        }
      ],
      "source": [
        "# Check shape data\n",
        "alphabet_data.shape, alphabet_labels.shape"
      ]
    },
    {
      "cell_type": "code",
      "execution_count": null,
      "metadata": {
        "colab": {
          "base_uri": "https://localhost:8080/"
        },
        "id": "UvE88zSkpe5e",
        "outputId": "d504ac08-25b3-4b39-a379-220bdda40f57"
      },
      "outputs": [
        {
          "data": {
            "text/plain": [
              "(372450,)"
            ]
          },
          "execution_count": 33,
          "metadata": {},
          "output_type": "execute_result"
        }
      ],
      "source": [
        "# Check shape labels\n",
        "alphabet_labels.shape"
      ]
    },
    {
      "cell_type": "markdown",
      "metadata": {
        "id": "YqyDhnokC-jM"
      },
      "source": [
        "**penjelasan**\n",
        "\n",
        "- alphabet_data.shape,\n",
        "memiliki 372,450 sampel (baris) dan 784 fitur (kolom)\n",
        "\n",
        "- alphabet_labels.shape,\n",
        "372,450 label atau kelas yang sesuai dengan setiap gambar"
      ]
    },
    {
      "cell_type": "code",
      "execution_count": null,
      "metadata": {
        "colab": {
          "base_uri": "https://localhost:8080/"
        },
        "id": "9xps-5kjpio_",
        "outputId": "7bd7e555-31c1-4cf5-8f11-973d0edf0a23"
      },
      "outputs": [
        {
          "data": {
            "text/plain": [
              "(372450, 28, 28)"
            ]
          },
          "execution_count": 34,
          "metadata": {},
          "output_type": "execute_result"
        }
      ],
      "source": [
        "# Reshape pixel data to 28*28\n",
        "alphabet_data = np.reshape(alphabet_data.values, (alphabet_data.shape[0], 28, 28))\n",
        "# Check the result by its shape\n",
        "alphabet_data.shape"
      ]
    },
    {
      "cell_type": "markdown",
      "metadata": {
        "id": "rhicj8YJD4L2"
      },
      "source": [
        "**penjelasan:**\n",
        "\n",
        "- menggunakan fungsi np.reshape() dari NumPy untuk mengubah ulang struktur\n",
        "- alphabet_data.values digunakan untuk mendapatkan nilai-nilai dalam bentuk array NumPy\n",
        "\n",
        "- Hasilnya,\n",
        "alphabet_data sekarang berisi 372,450 gambar, dan setiap gambar direpresentasikan sebagai matriks 28x28 piksel setelah proses reshape yang telah dilakukan\n"
      ]
    },
    {
      "cell_type": "code",
      "execution_count": null,
      "metadata": {
        "colab": {
          "base_uri": "https://localhost:8080/",
          "height": 452
        },
        "id": "tDTBbWSoqloX",
        "outputId": "4349b805-c7bc-4bdb-9b36-c18a7f32f2da"
      },
      "outputs": [
        {
          "data": {
            "image/png": "[encoded data removed]",
            "text/plain": [
              "<Figure size 640x480 with 1 Axes>"
            ]
          },
          "metadata": {},
          "output_type": "display_data"
        }
      ],
      "source": [
        "# Randomly checking A-Z dataset\n",
        "index = np.random.randint(0, alphabet_data.shape[0]) # memilih gambar secara acak\n",
        "plt.imshow(alphabet_data[index], cmap = 'gray') # menampilkan gambar yang dipilih secara acak\n",
        "plt.title('Class: ' + str(alphabet_labels[index]));"
      ]
    },
    {
      "cell_type": "markdown",
      "metadata": {
        "id": "A1EhYGf_Et2-"
      },
      "source": [
        "**penjelasan**\n",
        "\n",
        "- cmap='gray' mengatur warna plot sebagai grayscale, karena dataset ini berisi gambar-gambar dalam skala abu-abu (grayscale).\n",
        "\n",
        "- hasilnya, tampilan gambar huruf A-Z secara acak diatas adalah S"
      ]
    },
    {
      "cell_type": "code",
      "execution_count": null,
      "metadata": {
        "colab": {
          "base_uri": "https://localhost:8080/",
          "height": 468
        },
        "id": "72frSp_uqrjm",
        "outputId": "d5f3c5a9-bb85-46c0-8986-bdb96aec722a"
      },
      "outputs": [
        {
          "data": {
            "text/plain": [
              "<Axes: xlabel='Labels', ylabel='count'>"
            ]
          },
          "execution_count": 36,
          "metadata": {},
          "output_type": "execute_result"
        },
        {
          "data": {
            "image/png": "[encoded data removed]",
            "text/plain": [
              "<Figure size 640x480 with 1 Axes>"
            ]
          },
          "metadata": {},
          "output_type": "display_data"
        }
      ],
      "source": [
        "# Check data distribution\n",
        "df_az_labels = pd.DataFrame({\n",
        "    'Labels': alphabet_labels.values\n",
        "})\n",
        "sns.countplot(df_az_labels, x='Labels')"
      ]
    },
    {
      "cell_type": "markdown",
      "metadata": {
        "id": "iS677ZejE_Ib"
      },
      "source": [
        "**penjelasaan**\n",
        "\n",
        "\n",
        "Hasil diatas menunjukan gambaran visual tentang seberapa sering masing-masing huruf (kelas) muncul dalam dataset\n",
        "\n",
        "- x (horizontal) menunjukkan label atau kelas dari huruf A sampai Z (0-25).\n",
        "-  y (vertikal) menunjukkan jumlah frekuensi atau kemunculan setiap label atau kelas pada dataset"
      ]
    },
    {
      "cell_type": "markdown",
      "metadata": {
        "id": "YZf14K79sdEC"
      },
      "source": [
        "## Combine Dataset (MNIST + Kaggel A-Z)"
      ]
    },
    {
      "cell_type": "code",
      "execution_count": null,
      "metadata": {
        "colab": {
          "base_uri": "https://localhost:8080/"
        },
        "id": "9voZzZ8Krqk4",
        "outputId": "87091ce0-277d-4602-bfc9-abebab3cecbe"
      },
      "outputs": [
        {
          "data": {
            "text/plain": [
              "array([0, 1, 2, 3, 4, 5, 6, 7, 8, 9], dtype=uint8)"
            ]
          },
          "execution_count": 37,
          "metadata": {},
          "output_type": "execute_result"
        }
      ],
      "source": [
        "# Check unique value from digits_labels\n",
        "np.unique(digits_labels)"
      ]
    },
    {
      "cell_type": "markdown",
      "metadata": {
        "id": "D9FQ1FciKmOK"
      },
      "source": [
        "untuk menemukan nilai unik atau kelas yang berbeda dari label-label dalam dataset MNIST"
      ]
    },
    {
      "cell_type": "code",
      "execution_count": null,
      "metadata": {
        "colab": {
          "base_uri": "https://localhost:8080/"
        },
        "id": "9ZzBJFKxs1AF",
        "outputId": "d399feda-0cc7-4009-9f56-a729a85566a6"
      },
      "outputs": [
        {
          "data": {
            "text/plain": [
              "array([ 0.,  1.,  2.,  3.,  4.,  5.,  6.,  7.,  8.,  9., 10., 11., 12.,\n",
              "       13., 14., 15., 16., 17., 18., 19., 20., 21., 22., 23., 24., 25.],\n",
              "      dtype=float32)"
            ]
          },
          "execution_count": 38,
          "metadata": {},
          "output_type": "execute_result"
        }
      ],
      "source": [
        "# Check unique value from alphabet_labels\n",
        "np.unique(alphabet_labels)"
      ]
    },
    {
      "cell_type": "markdown",
      "metadata": {
        "id": "HoCA9d3PKtiD"
      },
      "source": [
        " untuk menemukan nilai unik atau kelas yang berbeda dari label-label dalam dataset huruf A-Z."
      ]
    },
    {
      "cell_type": "code",
      "execution_count": null,
      "metadata": {
        "id": "dM0GV8lIsnzf"
      },
      "outputs": [],
      "source": [
        "# We already know that digits labels containt labels from 0-9 (10 labels)\n",
        "# We also know that alphabet labels start from 0-25 which represent A-Z\n",
        "# If we want to combine them, the A-Z labels should continuing the digits label\n",
        "\n",
        "alphabet_labels += 10"
      ]
    },
    {
      "cell_type": "markdown",
      "metadata": {
        "id": "vdTyPztDLvfj"
      },
      "source": [
        " operasi ini bertujuan untuk menggeser atau menambahkan nilai pada label-label dari dataset huruf A-Z sebesar 10\n"
      ]
    },
    {
      "cell_type": "code",
      "execution_count": null,
      "metadata": {
        "colab": {
          "base_uri": "https://localhost:8080/"
        },
        "id": "42YKtJB-tQC6",
        "outputId": "0b35dd79-426d-4852-8b8d-379f9e102958"
      },
      "outputs": [
        {
          "data": {
            "text/plain": [
              "array([10., 11., 12., 13., 14., 15., 16., 17., 18., 19., 20., 21., 22.,\n",
              "       23., 24., 25., 26., 27., 28., 29., 30., 31., 32., 33., 34., 35.],\n",
              "      dtype=float32)"
            ]
          },
          "execution_count": 40,
          "metadata": {},
          "output_type": "execute_result"
        }
      ],
      "source": [
        "# check alphabet labels again\n",
        "np.unique(alphabet_labels)"
      ]
    },
    {
      "cell_type": "markdown",
      "metadata": {
        "id": "5NBkXWBIL2qO"
      },
      "source": [
        "- np.unique() digunakan untuk mengidentifikasi dan menampilkan daftar nilai unik dari suatu array.\n",
        "\n",
        "- Jika sebelumnya label huruf A-Z memiliki rentang nilai 0-25,\n",
        "setelah penambahan 10 pada setiap elemen label huruf A-Z (alphabet_labels += 10),\n",
        "Rentang nilai label akan berubah menjadi 10-35\n",
        "\n"
      ]
    },
    {
      "cell_type": "code",
      "execution_count": null,
      "metadata": {
        "id": "1ydXPXiItVVS"
      },
      "outputs": [],
      "source": [
        "# Combine both of them\n",
        "data = np.vstack([alphabet_data, digits_data])\n",
        "labels = np.hstack([alphabet_labels, digits_labels])"
      ]
    },
    {
      "cell_type": "markdown",
      "metadata": {
        "id": "3zGXRD65MjrE"
      },
      "source": [
        "- np.vstack() untuk menggabungkan data piksel dari kedua dataset (alphabet_data dan digits_data) ke dalam satu array data\n",
        "- np.hstack() untuk menggabungkan label-label dari kedua dataset (alphabet_labels dan digits_labels) ke dalam satu array labels.\n"
      ]
    },
    {
      "cell_type": "code",
      "execution_count": null,
      "metadata": {
        "colab": {
          "base_uri": "https://localhost:8080/"
        },
        "id": "-vYLoXFjuLz7",
        "outputId": "4ee50228-8943-45ba-f467-617b16147abd"
      },
      "outputs": [
        {
          "data": {
            "text/plain": [
              "((442450, 28, 28), (442450,))"
            ]
          },
          "execution_count": 42,
          "metadata": {},
          "output_type": "execute_result"
        }
      ],
      "source": [
        "# Check the shape\n",
        "data.shape, labels.shape #meriksa bentuk data dan label"
      ]
    },
    {
      "cell_type": "code",
      "execution_count": null,
      "metadata": {
        "colab": {
          "base_uri": "https://localhost:8080/"
        },
        "id": "biyM6WueuRG6",
        "outputId": "c0bf4ee1-7e96-4a05-8251-c26fbd17f966"
      },
      "outputs": [
        {
          "data": {
            "text/plain": [
              "array([ 0.,  1.,  2.,  3.,  4.,  5.,  6.,  7.,  8.,  9., 10., 11., 12.,\n",
              "       13., 14., 15., 16., 17., 18., 19., 20., 21., 22., 23., 24., 25.,\n",
              "       26., 27., 28., 29., 30., 31., 32., 33., 34., 35.], dtype=float32)"
            ]
          },
          "execution_count": 43,
          "metadata": {},
          "output_type": "execute_result"
        }
      ],
      "source": [
        "# Check labels\n",
        "np.unique(labels)"
      ]
    },
    {
      "cell_type": "code",
      "execution_count": null,
      "metadata": {
        "id": "vuEt24lhuVfy"
      },
      "outputs": [],
      "source": [
        "# Convert data to float32\n",
        "data = np.array(data, dtype = 'float32')"
      ]
    },
    {
      "cell_type": "markdown",
      "metadata": {
        "id": "YVw4kjovM3QO"
      },
      "source": [
        "**penjelasan**\n",
        "mengonversi array data ke dalam tipe data float32 untuk memastikan konsistensi tipe data dalam pemrosesan data."
      ]
    },
    {
      "cell_type": "code",
      "execution_count": null,
      "metadata": {
        "colab": {
          "base_uri": "https://localhost:8080/"
        },
        "id": "UC6Vhz59ucdR",
        "outputId": "a79068b9-573e-4028-a639-2d6e8c0b2b78"
      },
      "outputs": [
        {
          "data": {
            "text/plain": [
              "(442450, 28, 28, 1)"
            ]
          },
          "execution_count": 45,
          "metadata": {},
          "output_type": "execute_result"
        }
      ],
      "source": [
        "# Since Convolutional need 3d data (including depth)\n",
        "# and our images only in 2d data (because in grayscale format)\n",
        "# we need to add \"the depth\" to the data\n",
        "data = np.expand_dims(data, axis=-1)\n",
        "\n",
        "# check shape\n",
        "data.shape"
      ]
    },
    {
      "cell_type": "markdown",
      "metadata": {
        "id": "TfAPPNAJM9Av"
      },
      "source": [
        "**penjelasn**\n",
        "- np.expand_dims() untuk menambahkan dimensi terakhir (axis=-1) ke array data\n"
      ]
    },
    {
      "cell_type": "markdown",
      "metadata": {
        "id": "xF71lXtSu3YE"
      },
      "source": [
        "# Preprocessing"
      ]
    },
    {
      "cell_type": "code",
      "execution_count": null,
      "metadata": {
        "id": "kFjjP_JLuzbm"
      },
      "outputs": [],
      "source": [
        "# Normalize data\n",
        "data /= 255.0"
      ]
    },
    {
      "cell_type": "markdown",
      "metadata": {
        "id": "ZTDfA9IeNfOH"
      },
      "source": [
        "**penjelasan:**\n",
        "normalisasi pada data\n",
        "\n",
        "Normalisasi sering digunakan dalam proses pra-pemrosesan untuk membantu dalam konvergensi yang lebih baik saat melatih model."
      ]
    },
    {
      "cell_type": "code",
      "execution_count": null,
      "metadata": {
        "colab": {
          "base_uri": "https://localhost:8080/"
        },
        "id": "zztStKZOu-Dy",
        "outputId": "120823e3-4840-4f82-bc79-8c08b2abfa8e"
      },
      "outputs": [
        {
          "data": {
            "text/plain": [
              "(0.0, 1.0)"
            ]
          },
          "execution_count": 47,
          "metadata": {},
          "output_type": "execute_result"
        }
      ],
      "source": [
        "# Check range value of data\n",
        "data[0].min(), data[0].max()"
      ]
    },
    {
      "cell_type": "markdown",
      "metadata": {
        "id": "0IV3n8akOWbY"
      },
      "source": [
        "**penjelsan:** memeriksa rentang nilai piksel dari gambar pertama dalam dataset setelah normalisasi dilakukan."
      ]
    },
    {
      "cell_type": "code",
      "execution_count": null,
      "metadata": {
        "id": "s2C5yKEGu7vt"
      },
      "outputs": [],
      "source": [
        "# Enconde the labels\n",
        "# LabelBinarizer similar with OneHotEncoder\n",
        "le = LabelBinarizer()\n",
        "labels = le.fit_transform(labels)"
      ]
    },
    {
      "cell_type": "markdown",
      "metadata": {
        "id": "M2dgJDhhOcmS"
      },
      "source": [
        "**penjelasan:**\n",
        "- le = mengkodekan label-label kelas menjadi format yang sesuai dengan one-hot encoding\n",
        "- fit_transform() untuk  transformasi label\" kelas ke dalam bentuk biner yang diperlukan untuk pelatihan model machine learning, khususnya untuk tugas klasifikasi."
      ]
    },
    {
      "cell_type": "code",
      "execution_count": null,
      "metadata": {
        "colab": {
          "base_uri": "https://localhost:8080/"
        },
        "id": "Bo1M5YEmvg5x",
        "outputId": "909c42d8-6850-493b-8863-6ed1b309d9fb"
      },
      "outputs": [
        {
          "data": {
            "text/plain": [
              "(442450, 36)"
            ]
          },
          "execution_count": 49,
          "metadata": {},
          "output_type": "execute_result"
        }
      ],
      "source": [
        "# Check labels shape\n",
        "labels.shape"
      ]
    },
    {
      "cell_type": "markdown",
      "metadata": {
        "id": "4nKLA_ptOweR"
      },
      "source": [
        "**penjelasan**\n",
        "\n",
        " memeriksa bentuk array labels setelah proses one-hot encoding\n",
        " untuk memastikan bahwa label-label telah diubah menjadi bentuk biner yang tepat.\n"
      ]
    },
    {
      "cell_type": "code",
      "execution_count": null,
      "metadata": {
        "colab": {
          "base_uri": "https://localhost:8080/",
          "height": 469
        },
        "id": "jCL5ipbsvjpw",
        "outputId": "1905e2c3-ae21-4852-d0d7-aa083c8047f0"
      },
      "outputs": [
        {
          "data": {
            "text/plain": [
              "Text(0.5, 1.0, '[0 0 0 0 0 0 0 0 0 0 1 0 0 0 0 0 0 0 0 0 0 0 0 0 0 0 0 0 0 0 0 0 0 0 0 0]')"
            ]
          },
          "execution_count": 50,
          "metadata": {},
          "output_type": "execute_result"
        },
        {
          "data": {
            "image/png": "[encoded data removed]",
            "text/plain": [
              "<Figure size 640x480 with 1 Axes>"
            ]
          },
          "metadata": {},
          "output_type": "display_data"
        }
      ],
      "source": [
        "# Check data with label binarizer's label\n",
        "plt.imshow(data[30000].reshape(28,28), cmap='gray')\n",
        "plt.title(str(labels[0]))\n",
        "\n",
        "#menampilkan gambar dari data ke-30000 dalam format yang sesuai (28x28 piksel)\n",
        "#menampilkan label biner yang sesuai dengan gambar tersebut sebagai judul."
      ]
    },
    {
      "cell_type": "code",
      "execution_count": null,
      "metadata": {
        "colab": {
          "base_uri": "https://localhost:8080/"
        },
        "id": "njDbZXKzvsx2",
        "outputId": "097f35d1-5d7b-4ebe-8dc8-4e2c67f287ee"
      },
      "outputs": [
        {
          "data": {
            "text/plain": [
              "array([ 6903,  7877,  6990,  7141,  6824,  6313,  6876,  7293,  6825,\n",
              "        6958, 13869,  8668, 23409, 10134, 11440,  1163,  5762,  7218,\n",
              "        1120,  8493,  5603, 11586, 12336, 19010, 57825, 19341,  5812,\n",
              "       11566, 48419, 22495, 29008,  4182, 10784,  6272, 10859,  6076])"
            ]
          },
          "execution_count": 51,
          "metadata": {},
          "output_type": "execute_result"
        }
      ],
      "source": [
        "# Since our data is not balance, we will handle it by giving weight for 'small' data\n",
        "\n",
        "# Check number of data for each labels first\n",
        "classes_total = labels.sum(axis = 0)\n",
        "classes_total"
      ]
    },
    {
      "cell_type": "code",
      "execution_count": null,
      "metadata": {
        "colab": {
          "base_uri": "https://localhost:8080/"
        },
        "id": "R1hHYtGLv_ZO",
        "outputId": "4e1434aa-0929-4a16-be37-5b662e384fa0"
      },
      "outputs": [
        {
          "data": {
            "text/plain": [
              "57825"
            ]
          },
          "execution_count": 52,
          "metadata": {},
          "output_type": "execute_result"
        }
      ],
      "source": [
        "# Check the biggest value of data\n",
        "classes_total.max()"
      ]
    },
    {
      "cell_type": "code",
      "execution_count": null,
      "metadata": {
        "colab": {
          "base_uri": "https://localhost:8080/"
        },
        "id": "7TJFrxS2wFTO",
        "outputId": "4f20c762-82aa-4fc3-bf8f-2765622978eb"
      },
      "outputs": [
        {
          "data": {
            "text/plain": [
              "{0: 8.376792698826597,\n",
              " 1: 7.340992763742541,\n",
              " 2: 8.272532188841202,\n",
              " 3: 8.097605377398123,\n",
              " 4: 8.473769050410317,\n",
              " 5: 9.15967052114684,\n",
              " 6: 8.409685863874346,\n",
              " 7: 7.928835870012341,\n",
              " 8: 8.472527472527473,\n",
              " 9: 8.310577752227651,\n",
              " 10: 4.169370538611291,\n",
              " 11: 6.671089063221043,\n",
              " 12: 2.4702037677816224,\n",
              " 13: 5.7060390763765545,\n",
              " 14: 5.0546328671328675,\n",
              " 15: 49.72055030094583,\n",
              " 16: 10.035577924331829,\n",
              " 17: 8.011221945137157,\n",
              " 18: 51.629464285714285,\n",
              " 19: 6.808548216178029,\n",
              " 20: 10.320364090665715,\n",
              " 21: 4.990937338166753,\n",
              " 22: 4.6875,\n",
              " 23: 3.0418200946870066,\n",
              " 24: 1.0,\n",
              " 25: 2.989762680316426,\n",
              " 26: 9.94924294562973,\n",
              " 27: 4.999567698426422,\n",
              " 28: 1.1942625828703608,\n",
              " 29: 2.5705712380529007,\n",
              " 30: 1.993415609487038,\n",
              " 31: 13.827116212338593,\n",
              " 32: 5.362110534124629,\n",
              " 33: 9.21954719387755,\n",
              " 34: 5.3250759738465785,\n",
              " 35: 9.51695194206715}"
            ]
          },
          "execution_count": 53,
          "metadata": {},
          "output_type": "execute_result"
        }
      ],
      "source": [
        "# Create a weight for each data\n",
        "classes_weights = {}\n",
        "for i in range(0, len(classes_total)):\n",
        "  #print(i)\n",
        "  classes_weights[i] = classes_total.max() / classes_total[i]\n",
        "\n",
        "# Check the weight for each data\n",
        "classes_weights"
      ]
    },
    {
      "cell_type": "markdown",
      "metadata": {
        "id": "mdGtx0YvPB_o"
      },
      "source": [
        "penanganan ketidakseimbangan kelas dengan memberikan bobot (weights) pada setiap kelas\n",
        "\n",
        "- labels.sum(axis=0),hitung jumlah total sampel untuk setiap kelas\n",
        "- perhitungan bobot (weights) untuk setiap kelas dengan menghitung nilai maksimum jumlah sampel dibagi dengan jumlah sampel untuk setiap kelas.\n"
      ]
    },
    {
      "cell_type": "markdown",
      "metadata": {
        "id": "VtDS1O6JwSQ5"
      },
      "source": [
        "# Split Data to Train and Test"
      ]
    },
    {
      "cell_type": "code",
      "execution_count": null,
      "metadata": {
        "id": "rV62GJySwM2z"
      },
      "outputs": [],
      "source": [
        "X_train, X_test, y_train, y_test = train_test_split(data, labels, test_size = 0.2, random_state = 1, stratify = labels)"
      ]
    },
    {
      "cell_type": "markdown",
      "metadata": {
        "id": "HNcW3ZYFPuVa"
      },
      "source": [
        "Subset X_train dan y_train digunakan untuk melatih model, sementara subset X_test dan y_test digunakan untuk menguji kinerja model yang telah dilatih."
      ]
    },
    {
      "cell_type": "markdown",
      "metadata": {
        "id": "q7Hs5GwGxw4E"
      },
      "source": [
        "## Create Data Augmentation"
      ]
    },
    {
      "cell_type": "code",
      "execution_count": null,
      "metadata": {
        "id": "Xn1jiVn9x2Gx"
      },
      "outputs": [],
      "source": [
        "# Import library\n",
        "from tensorflow.keras.preprocessing.image import ImageDataGenerator"
      ]
    },
    {
      "cell_type": "code",
      "execution_count": null,
      "metadata": {
        "id": "su41P3box6Zm"
      },
      "outputs": [],
      "source": [
        "augmentation = ImageDataGenerator(rotation_range = 10, zoom_range=0.05, width_shift_range=0.1,\n",
        "                                  height_shift_range=0.1, horizontal_flip = False)"
      ]
    },
    {
      "cell_type": "markdown",
      "metadata": {
        "id": "TSVMi4MxP6HD"
      },
      "source": [
        "**penjelasan**\n",
        "\n",
        "Augmentasi data = teknik yang  digunakan untuk memperluas dataset pelatihan dg membuat variasi dri gambar yang ada, guna meningkatkan keberagaman dataset yg digunakan untk melatih model.\n",
        "\n",
        "-ImageDataGenerator dari TensorFlow Keras untuk melakukan augmentasi data\n"
      ]
    },
    {
      "cell_type": "markdown",
      "metadata": {
        "id": "GYwIT1TZw8SM"
      },
      "source": [
        "# Build CNN Model"
      ]
    },
    {
      "cell_type": "code",
      "execution_count": null,
      "metadata": {
        "id": "nvQ2Ly4zwX8z"
      },
      "outputs": [],
      "source": [
        "# Import library\n",
        "from tensorflow.keras.models import Sequential\n",
        "#membuat model secara berurutan\n",
        "from tensorflow.keras.layers import Conv2D, MaxPool2D, Flatten, Dense\n",
        "#  beberapa jenis lapisan (layers)\n",
        "from tensorflow.keras.callbacks import ModelCheckpoint\n",
        "# fungsi callback, untk menyimpan model ke dlm file tertentu selama proses pelatihan,"
      ]
    },
    {
      "cell_type": "code",
      "execution_count": null,
      "metadata": {
        "id": "icRreUChxAwF"
      },
      "outputs": [],
      "source": [
        "# Build the network\n",
        "network = Sequential()\n",
        "\n",
        "network.add(Conv2D(filters = 32, kernel_size=(3,3), activation='relu', input_shape=(28,28,1)))\n",
        "network.add(MaxPool2D(pool_size=(2,2)))\n",
        "\n",
        "network.add(Conv2D(filters = 64, kernel_size=(3,3), activation='relu', padding='same'))\n",
        "network.add(MaxPool2D(pool_size=(2,2)))\n",
        "\n",
        "network.add(Conv2D(filters = 128, kernel_size=(3,3), activation='relu', padding='valid'))\n",
        "network.add(MaxPool2D(pool_size=(2,2)))\n",
        "\n",
        "network.add(Flatten())\n",
        "\n",
        "network.add(Dense(64, activation = 'relu'))\n",
        "network.add(Dense(128, activation = 'relu'))\n",
        "\n",
        "network.add(Dense(36, activation='softmax'))\n",
        "\n",
        "network.compile(loss = 'categorical_crossentropy', optimizer = 'adam', metrics = ['accuracy'])"
      ]
    },
    {
      "cell_type": "markdown",
      "metadata": {
        "id": "afuB5SSqQyPU"
      },
      "source": [
        "**penjelasan**\n",
        "\n",
        " untuk membangun arsitektur sebuah model neural network dengan menggunakan TensorFlow Keras\n",
        "- network = Sequential(), Membuat objek model neural network dri sequntial\n",
        "\n",
        "tambahan lapisan\n",
        "- lapisan konvolusi pertama dengan 32 filter\n",
        "- lapisan konvolusi kedua dengan 64 filter\n",
        "- lapisan konvolusi ketiga dengan 128 filter\n",
        "\n",
        "Lapisan Flatten() untuk meratakan output dari lapisan sebelumnya menjadi array 1D.\n"
      ]
    },
    {
      "cell_type": "code",
      "execution_count": null,
      "metadata": {
        "colab": {
          "base_uri": "https://localhost:8080/"
        },
        "id": "nAuCYbRWxIKl",
        "outputId": "f6834ed3-11e3-4f4d-e40b-12a40ea4d314"
      },
      "outputs": [
        {
          "name": "stdout",
          "output_type": "stream",
          "text": [
            "Model: \"sequential\"\n",
            "_________________________________________________________________\n",
            " Layer (type)                Output Shape              Param #   \n",
            "=================================================================\n",
            " conv2d (Conv2D)             (None, 26, 26, 32)        320       \n",
            "                                                                 \n",
            " max_pooling2d (MaxPooling2  (None, 13, 13, 32)        0         \n",
            " D)                                                              \n",
            "                                                                 \n",
            " conv2d_1 (Conv2D)           (None, 13, 13, 64)        18496     \n",
            "                                                                 \n",
            " max_pooling2d_1 (MaxPoolin  (None, 6, 6, 64)          0         \n",
            " g2D)                                                            \n",
            "                                                                 \n",
            " conv2d_2 (Conv2D)           (None, 4, 4, 128)         73856     \n",
            "                                                                 \n",
            " max_pooling2d_2 (MaxPoolin  (None, 2, 2, 128)         0         \n",
            " g2D)                                                            \n",
            "                                                                 \n",
            " flatten (Flatten)           (None, 512)               0         \n",
            "                                                                 \n",
            " dense (Dense)               (None, 64)                32832     \n",
            "                                                                 \n",
            " dense_1 (Dense)             (None, 128)               8320      \n",
            "                                                                 \n",
            " dense_2 (Dense)             (None, 36)                4644      \n",
            "                                                                 \n",
            "=================================================================\n",
            "Total params: 138468 (540.89 KB)\n",
            "Trainable params: 138468 (540.89 KB)\n",
            "Non-trainable params: 0 (0.00 Byte)\n",
            "_________________________________________________________________\n"
          ]
        }
      ],
      "source": [
        "# Check network summary\n",
        "network.summary()"
      ]
    },
    {
      "cell_type": "code",
      "execution_count": null,
      "metadata": {
        "colab": {
          "base_uri": "https://localhost:8080/"
        },
        "id": "o7Vc4ly2xMhk",
        "outputId": "6da309cf-7e70-43ea-b012-e3bae289cf38"
      },
      "outputs": [
        {
          "name": "stdout",
          "output_type": "stream",
          "text": [
            "['0', '1', '2', '3', '4', '5', '6', '7', '8', '9', 'A', 'B', 'C', 'D', 'E', 'F', 'G', 'H', 'I', 'J', 'K', 'L', 'M', 'N', 'O', 'P', 'Q', 'R', 'S', 'T', 'U', 'V', 'W', 'X', 'Y', 'Z']\n"
          ]
        }
      ],
      "source": [
        "# Create actual labels\n",
        "name_labels = '0123456789'\n",
        "name_labels += 'ABCDEFGHIJKLMNOPQRSTUVWXYZ'\n",
        "name_labels = [l for l in name_labels]\n",
        "\n",
        "# Check actual label\n",
        "print(name_labels)"
      ]
    },
    {
      "cell_type": "markdown",
      "metadata": {
        "id": "DH7hSW38xX6e"
      },
      "source": [
        "## Train model"
      ]
    },
    {
      "cell_type": "code",
      "execution_count": null,
      "metadata": {
        "id": "rNQ_-PY7xVRD"
      },
      "outputs": [],
      "source": [
        "# Set model name, epoch, and batch size\n",
        "file_model = 'custom_ocr.model' #menentukan nama file\n",
        "epochs = 20 # jumlah iteras\n",
        "batch_size = 128 #menentukan jumlah sampel data"
      ]
    },
    {
      "cell_type": "code",
      "execution_count": null,
      "metadata": {
        "id": "F8Orj5UQxdtr"
      },
      "outputs": [],
      "source": [
        "# Setup checkpoint\n",
        "checkpointer = ModelCheckpoint(file_model, monitor = 'val_loss', verbose = 1, save_best_only=True)"
      ]
    },
    {
      "cell_type": "markdown",
      "metadata": {
        "id": "x6v_vxZuRt1z"
      },
      "source": [
        "**penjelasan**\n",
        "- menyiapkan parameter-parameter yang akan digunakan dalam proses pelatihan model,\n",
        "- menyiapkan fungsi callback untuk menyimpan model selama proses pelatihan\n",
        "\n",
        "\n",
        "Model akan dilatih selama 20 epoch dengan ukuran batch sebesar 128, dan selama proses pelatihan, model akan disimpan setiap kali terjadi perbaikan (penurunan) pada nilai val_loss"
      ]
    },
    {
      "cell_type": "code",
      "execution_count": null,
      "metadata": {
        "colab": {
          "background_save": true,
          "base_uri": "https://localhost:8080/"
        },
        "id": "enFAwiaxxkgx",
        "outputId": "70d11def-9774-4c3d-a548-c6eb66408c0e"
      },
      "outputs": [
        {
          "name": "stdout",
          "output_type": "stream",
          "text": [
            "Epoch 1/20\n",
            "2764/2765 [============================>.] - ETA: 0s - loss: 2.1613 - accuracy: 0.8264\n",
            "Epoch 1: val_loss improved from inf to 0.25086, saving model to custom_ocr.model\n",
            "2765/2765 [==============================] - 146s 48ms/step - loss: 2.1613 - accuracy: 0.8264 - val_loss: 0.2509 - val_accuracy: 0.8987\n",
            "Epoch 2/20\n",
            "2764/2765 [============================>.] - ETA: 0s - loss: 0.9889 - accuracy: 0.9011\n",
            "Epoch 2: val_loss improved from 0.25086 to 0.25054, saving model to custom_ocr.model\n",
            "2765/2765 [==============================] - 161s 58ms/step - loss: 0.9887 - accuracy: 0.9011 - val_loss: 0.2505 - val_accuracy: 0.8953\n",
            "Epoch 3/20\n",
            "2765/2765 [==============================] - ETA: 0s - loss: 0.8231 - accuracy: 0.9130\n",
            "Epoch 3: val_loss improved from 0.25054 to 0.23458, saving model to custom_ocr.model\n",
            "2765/2765 [==============================] - 181s 65ms/step - loss: 0.8231 - accuracy: 0.9130 - val_loss: 0.2346 - val_accuracy: 0.9045\n",
            "Epoch 4/20\n",
            "2765/2765 [==============================] - ETA: 0s - loss: 0.7402 - accuracy: 0.9203\n",
            "Epoch 4: val_loss improved from 0.23458 to 0.19883, saving model to custom_ocr.model\n",
            "2765/2765 [==============================] - 136s 49ms/step - loss: 0.7402 - accuracy: 0.9203 - val_loss: 0.1988 - val_accuracy: 0.9187\n",
            "Epoch 5/20\n",
            "2764/2765 [============================>.] - ETA: 0s - loss: 0.6681 - accuracy: 0.9263\n",
            "Epoch 5: val_loss did not improve from 0.19883\n",
            "2765/2765 [==============================] - 168s 61ms/step - loss: 0.6682 - accuracy: 0.9262 - val_loss: 0.2850 - val_accuracy: 0.8850\n",
            "Epoch 6/20\n",
            "2765/2765 [==============================] - ETA: 0s - loss: 0.6257 - accuracy: 0.9301\n",
            "Epoch 6: val_loss did not improve from 0.19883\n",
            "2765/2765 [==============================] - 168s 61ms/step - loss: 0.6257 - accuracy: 0.9301 - val_loss: 0.3616 - val_accuracy: 0.8571\n",
            "Epoch 7/20\n",
            "2765/2765 [==============================] - ETA: 0s - loss: 0.5821 - accuracy: 0.9328\n",
            "Epoch 7: val_loss did not improve from 0.19883\n",
            "2765/2765 [==============================] - 140s 51ms/step - loss: 0.5821 - accuracy: 0.9328 - val_loss: 0.3013 - val_accuracy: 0.8788\n",
            "Epoch 8/20\n",
            "2765/2765 [==============================] - ETA: 0s - loss: 0.5600 - accuracy: 0.9354\n",
            "Epoch 8: val_loss did not improve from 0.19883\n",
            "2765/2765 [==============================] - 183s 66ms/step - loss: 0.5600 - accuracy: 0.9354 - val_loss: 0.2847 - val_accuracy: 0.8848\n",
            "Epoch 9/20\n",
            "2765/2765 [==============================] - ETA: 0s - loss: 0.5310 - accuracy: 0.9374\n",
            "Epoch 9: val_loss did not improve from 0.19883\n",
            "2765/2765 [==============================] - 169s 61ms/step - loss: 0.5310 - accuracy: 0.9374 - val_loss: 0.2712 - val_accuracy: 0.8802\n",
            "Epoch 10/20\n",
            "2765/2765 [==============================] - ETA: 0s - loss: 0.5169 - accuracy: 0.9388\n",
            "Epoch 10: val_loss did not improve from 0.19883\n",
            "2765/2765 [==============================] - 145s 52ms/step - loss: 0.5169 - accuracy: 0.9388 - val_loss: 0.2283 - val_accuracy: 0.8995\n",
            "Epoch 11/20\n",
            "2765/2765 [==============================] - ETA: 0s - loss: 0.4948 - accuracy: 0.9410\n",
            "Epoch 11: val_loss improved from 0.19883 to 0.18993, saving model to custom_ocr.model\n",
            "2765/2765 [==============================] - 184s 67ms/step - loss: 0.4948 - accuracy: 0.9410 - val_loss: 0.1899 - val_accuracy: 0.9205\n",
            "Epoch 12/20\n",
            "2765/2765 [==============================] - ETA: 0s - loss: 0.4784 - accuracy: 0.9421\n",
            "Epoch 12: val_loss did not improve from 0.18993\n",
            "2765/2765 [==============================] - 164s 59ms/step - loss: 0.4784 - accuracy: 0.9421 - val_loss: 0.2465 - val_accuracy: 0.9000\n",
            "Epoch 13/20\n",
            "2765/2765 [==============================] - ETA: 0s - loss: 0.4758 - accuracy: 0.9434\n",
            "Epoch 13: val_loss improved from 0.18993 to 0.14230, saving model to custom_ocr.model\n",
            "2765/2765 [==============================] - 133s 48ms/step - loss: 0.4758 - accuracy: 0.9434 - val_loss: 0.1423 - val_accuracy: 0.9501\n",
            "Epoch 14/20\n",
            "2765/2765 [==============================] - ETA: 0s - loss: 0.4602 - accuracy: 0.9445\n",
            "Epoch 14: val_loss did not improve from 0.14230\n",
            "2765/2765 [==============================] - 135s 49ms/step - loss: 0.4602 - accuracy: 0.9445 - val_loss: 0.1652 - val_accuracy: 0.9482\n",
            "Epoch 15/20\n",
            "2765/2765 [==============================] - ETA: 0s - loss: 0.4454 - accuracy: 0.9465\n",
            "Epoch 15: val_loss did not improve from 0.14230\n",
            "2765/2765 [==============================] - 125s 45ms/step - loss: 0.4454 - accuracy: 0.9465 - val_loss: 0.1568 - val_accuracy: 0.9462\n",
            "Epoch 16/20\n",
            "2764/2765 [============================>.] - ETA: 0s - loss: 0.4419 - accuracy: 0.9462\n",
            "Epoch 16: val_loss did not improve from 0.14230\n",
            "2765/2765 [==============================] - 121s 44ms/step - loss: 0.4418 - accuracy: 0.9462 - val_loss: 0.1464 - val_accuracy: 0.9484\n",
            "Epoch 17/20\n",
            "2765/2765 [==============================] - ETA: 0s - loss: 0.4317 - accuracy: 0.9477\n",
            "Epoch 17: val_loss did not improve from 0.14230\n",
            "2765/2765 [==============================] - 133s 48ms/step - loss: 0.4317 - accuracy: 0.9477 - val_loss: 0.1515 - val_accuracy: 0.9504\n",
            "Epoch 18/20\n",
            "2765/2765 [==============================] - ETA: 0s - loss: 0.4260 - accuracy: 0.9496\n",
            "Epoch 18: val_loss did not improve from 0.14230\n",
            "2765/2765 [==============================] - 121s 44ms/step - loss: 0.4260 - accuracy: 0.9496 - val_loss: 0.1479 - val_accuracy: 0.9521\n",
            "Epoch 19/20\n",
            "2765/2765 [==============================] - ETA: 0s - loss: 0.4211 - accuracy: 0.9503\n",
            "Epoch 19: val_loss improved from 0.14230 to 0.13646, saving model to custom_ocr.model\n",
            "2765/2765 [==============================] - 128s 46ms/step - loss: 0.4211 - accuracy: 0.9503 - val_loss: 0.1365 - val_accuracy: 0.9560\n",
            "Epoch 20/20\n",
            "2765/2765 [==============================] - ETA: 0s - loss: 0.4094 - accuracy: 0.9501\n",
            "Epoch 20: val_loss did not improve from 0.13646\n",
            "2765/2765 [==============================] - 122s 44ms/step - loss: 0.4094 - accuracy: 0.9501 - val_loss: 0.1536 - val_accuracy: 0.9427\n"
          ]
        }
      ],
      "source": [
        "# Fit the model\n",
        "history = network.fit(augmentation.flow(X_train, y_train, batch_size=batch_size),\n",
        "                      validation_data = (X_test, y_test),\n",
        "                      steps_per_epoch = len(X_train) // batch_size, epochs=epochs,\n",
        "                      class_weight = classes_weights, verbose=1, callbacks=[checkpointer])"
      ]
    },
    {
      "cell_type": "markdown",
      "metadata": {
        "id": "rBJy2kdqSQAO"
      },
      "source": [
        "dengan network.fit(), model akan dilatih menggunakan data yang telah dipersiapkan sebelumnya\n",
        "\n",
        "memonitor performa model pada data validasi.\n"
      ]
    },
    {
      "cell_type": "markdown",
      "metadata": {
        "id": "bM4mGoWL6jxk"
      },
      "source": [
        "# Evaluate Model"
      ]
    },
    {
      "cell_type": "markdown",
      "metadata": {
        "id": "ig0TiV6N7V29"
      },
      "source": [
        "## Make a Single Prediction"
      ]
    },
    {
      "cell_type": "code",
      "execution_count": null,
      "metadata": {
        "colab": {
          "background_save": true
        },
        "id": "ddHEEKuWT-Us",
        "outputId": "ae3293a1-b305-42b7-fbdf-def030c523e9"
      },
      "outputs": [
        {
          "name": "stdout",
          "output_type": "stream",
          "text": [
            "692/692 [==============================] - 3s 3ms/step\n"
          ]
        }
      ],
      "source": [
        "# make a prediction\n",
        "predictions = network.predict(X_test, batch_size=batch_size)"
      ]
    },
    {
      "cell_type": "code",
      "execution_count": null,
      "metadata": {
        "colab": {
          "background_save": true
        },
        "id": "tQ5Ta4b96pEt",
        "outputId": "2cfe4cde-f19c-4fbf-b9ba-4082bc70fd66"
      },
      "outputs": [
        {
          "data": {
            "text/plain": [
              "array([7.7405539e-20, 2.4896229e-12, 1.4105596e-10, 6.6101879e-15,\n",
              "       9.8981104e-16, 9.5232482e-11, 2.1616679e-13, 2.7001402e-13,\n",
              "       9.6738336e-17, 1.1592414e-18, 4.3739516e-16, 3.1002655e-12,\n",
              "       1.2844454e-12, 3.2010345e-12, 1.7569295e-11, 1.5333880e-16,\n",
              "       1.0670681e-10, 2.0791640e-14, 9.9934536e-01, 6.5392355e-04,\n",
              "       2.6861719e-14, 8.7042142e-09, 1.5059009e-14, 1.1789099e-15,\n",
              "       5.2635804e-12, 1.1809305e-12, 3.2850727e-13, 2.9172817e-17,\n",
              "       9.8359744e-11, 4.5378428e-07, 1.2818959e-11, 7.2184619e-19,\n",
              "       3.1845961e-17, 6.9870753e-16, 9.3542626e-14, 1.8210731e-07],\n",
              "      dtype=float32)"
            ]
          },
          "execution_count": 51,
          "metadata": {},
          "output_type": "execute_result"
        }
      ],
      "source": [
        "# Check prediction for data-0\n",
        "# You will get the probability for each label\n",
        "# The highest one is the prediction\n",
        "predictions[1]"
      ]
    },
    {
      "cell_type": "code",
      "execution_count": null,
      "metadata": {
        "colab": {
          "background_save": true
        },
        "id": "9THTrYAH64g8",
        "outputId": "2811f21b-b31d-4baf-ec8b-cc95685c8476"
      },
      "outputs": [
        {
          "data": {
            "text/plain": [
              "18"
            ]
          },
          "execution_count": 52,
          "metadata": {},
          "output_type": "execute_result"
        }
      ],
      "source": [
        "# Get the actual prediction -> highest probability\n",
        "np.argmax(predictions[1])"
      ]
    },
    {
      "cell_type": "code",
      "execution_count": null,
      "metadata": {
        "colab": {
          "background_save": true
        },
        "id": "pG6n2eTI6-Ly",
        "outputId": "6883ab92-859d-4fd1-d55b-8f746e6d60db"
      },
      "outputs": [
        {
          "data": {
            "application/vnd.google.colaboratory.intrinsic+json": {
              "type": "string"
            },
            "text/plain": [
              "'I'"
            ]
          },
          "execution_count": 53,
          "metadata": {},
          "output_type": "execute_result"
        }
      ],
      "source": [
        "# Check label for 24\n",
        "name_labels[18]"
      ]
    },
    {
      "cell_type": "code",
      "execution_count": null,
      "metadata": {
        "colab": {
          "background_save": true
        },
        "id": "chDSvyYq7Bxq",
        "outputId": "7939986c-9480-42dc-cfbc-e0bf9f7d8f68"
      },
      "outputs": [
        {
          "data": {
            "text/plain": [
              "array([0, 0, 0, 0, 0, 0, 0, 0, 0, 0, 0, 0, 0, 0, 0, 0, 0, 0, 1, 0, 0, 0,\n",
              "       0, 0, 0, 0, 0, 0, 0, 0, 0, 0, 0, 0, 0, 0])"
            ]
          },
          "execution_count": 54,
          "metadata": {},
          "output_type": "execute_result"
        }
      ],
      "source": [
        "# Check y_test label for 0\n",
        "y_test[1]"
      ]
    },
    {
      "cell_type": "code",
      "execution_count": null,
      "metadata": {
        "colab": {
          "background_save": true
        },
        "id": "BpoE99Us7KpZ",
        "outputId": "2d715f8b-24f9-4a7a-a73d-93dbf12affac"
      },
      "outputs": [
        {
          "data": {
            "text/plain": [
              "18"
            ]
          },
          "execution_count": 55,
          "metadata": {},
          "output_type": "execute_result"
        }
      ],
      "source": [
        "# check the highest value\n",
        "np.argmax(y_test[1])"
      ]
    },
    {
      "cell_type": "code",
      "execution_count": null,
      "metadata": {
        "colab": {
          "background_save": true
        },
        "id": "KjJRX1lC7Ppw",
        "outputId": "5b064829-a248-4958-a1a5-858f6fa2b4a5"
      },
      "outputs": [
        {
          "data": {
            "application/vnd.google.colaboratory.intrinsic+json": {
              "type": "string"
            },
            "text/plain": [
              "'S'"
            ]
          },
          "execution_count": 56,
          "metadata": {},
          "output_type": "execute_result"
        }
      ],
      "source": [
        "# Check the label of y_test 0\n",
        "name_labels[np.argmax(y_test[18])]"
      ]
    },
    {
      "cell_type": "markdown",
      "metadata": {
        "id": "5pbMkmvg7V0i"
      },
      "source": [
        "**penjelasan**\n",
        "Kode diatas  melakukan prediksi menggunakan model yang telah dilatih, mengevaluasi hasil prediksi, dan membandingkan prediksi model dengan label asli dari dataset pengujian\n",
        "\n",
        "1. Melakukan prediksi,\n",
        "\n",
        " prediksi pada data pengujian (X_test). Prediksi akan menghasilkan probabilitas kelas untuk setiap sampel data.\n",
        "2. Melihat Probabilitas satu data,\n",
        "3. Mencari indeks kelas dengan probabilitas tertinggi dari hasil prediksi pada sampel data dengan indeks ke-1.\n",
        "4. Mengeccek Label\n",
        "\n",
        "  Mengambil label atau nama yang sesuai dengan kelas ke-18 (indeks ke-18) dari dataset label.\n",
        "5. Mengecek Label pada y_test dan y_test\n",
        "\n",
        "\n"
      ]
    },
    {
      "cell_type": "markdown",
      "metadata": {
        "id": "_xFS3-cs7a0x"
      },
      "source": [
        "## Make an Evaluation on Test Data"
      ]
    },
    {
      "cell_type": "code",
      "execution_count": null,
      "metadata": {
        "colab": {
          "background_save": true
        },
        "id": "t-rko8WP7TYA",
        "outputId": "2fd3ad99-605d-484b-b041-0037781a68a4"
      },
      "outputs": [
        {
          "name": "stdout",
          "output_type": "stream",
          "text": [
            "2766/2766 [==============================] - 10s 3ms/step - loss: 0.1536 - accuracy: 0.9427\n"
          ]
        },
        {
          "data": {
            "text/plain": [
              "[0.1536012440919876, 0.9426602125167847]"
            ]
          },
          "execution_count": 57,
          "metadata": {},
          "output_type": "execute_result"
        }
      ],
      "source": [
        "# Evaluate on test data\n",
        "network.evaluate(X_test, y_test)"
      ]
    },
    {
      "cell_type": "markdown",
      "metadata": {
        "id": "I5facT8YVJ3x"
      },
      "source": [
        "**penjelasn**\n",
        "\n",
        "mengevaluasi kinerja model neural network pada data pengujian (X_test) dengan menggunakan label yang sesuai (y_test)\n",
        "\n",
        "Hasilnya\n",
        "-  mencakup nilai akurasi dari model pada data pengujian.\n",
        "- Metrik-metrik ini memberikan pemahaman tentang seberapa baik model dapat memprediksi label yang benar untuk data yang belum pernah dilihat sebelumnya."
      ]
    },
    {
      "cell_type": "code",
      "execution_count": null,
      "metadata": {
        "colab": {
          "background_save": true
        },
        "id": "VkQtgoCq7gx2",
        "outputId": "824dbcc5-94d7-47b7-babe-05a436d71aa1"
      },
      "outputs": [
        {
          "name": "stdout",
          "output_type": "stream",
          "text": [
            "              precision    recall  f1-score   support\n",
            "\n",
            "           0       0.30      0.73      0.42      1381\n",
            "           1       0.98      0.99      0.98      1575\n",
            "           2       0.91      0.97      0.94      1398\n",
            "           3       0.98      0.99      0.98      1428\n",
            "           4       0.88      0.98      0.93      1365\n",
            "           5       0.59      0.96      0.73      1263\n",
            "           6       0.96      0.98      0.97      1375\n",
            "           7       0.95      0.99      0.97      1459\n",
            "           8       0.98      0.98      0.98      1365\n",
            "           9       0.98      0.97      0.97      1392\n",
            "           A       0.99      0.99      0.99      2774\n",
            "           B       0.99      0.99      0.99      1734\n",
            "           C       0.98      0.99      0.99      4682\n",
            "           D       0.94      0.96      0.95      2027\n",
            "           E       0.99      0.99      0.99      2288\n",
            "           F       0.97      1.00      0.99       233\n",
            "           G       0.96      0.95      0.96      1152\n",
            "           H       0.99      0.93      0.96      1444\n",
            "           I       0.97      0.99      0.98       224\n",
            "           J       0.97      0.97      0.97      1698\n",
            "           K       0.98      0.98      0.98      1121\n",
            "           L       0.98      0.97      0.98      2317\n",
            "           M       0.99      0.99      0.99      2467\n",
            "           N       0.99      0.99      0.99      3802\n",
            "           O       0.96      0.78      0.86     11565\n",
            "           P       1.00      0.98      0.99      3868\n",
            "           Q       0.94      0.99      0.97      1162\n",
            "           R       0.99      0.98      0.99      2313\n",
            "           S       0.99      0.91      0.95      9684\n",
            "           T       1.00      0.99      0.99      4499\n",
            "           U       0.99      0.98      0.99      5801\n",
            "           V       0.96      1.00      0.98       836\n",
            "           W       0.99      0.99      0.99      2157\n",
            "           X       0.99      0.99      0.99      1254\n",
            "           Y       0.98      0.95      0.96      2172\n",
            "           Z       0.97      0.93      0.95      1215\n",
            "\n",
            "    accuracy                           0.94     88490\n",
            "   macro avg       0.94      0.96      0.95     88490\n",
            "weighted avg       0.96      0.94      0.95     88490\n",
            "\n"
          ]
        }
      ],
      "source": [
        "# Print Classification Report\n",
        "print(classification_report(y_test.argmax(axis=1), predictions.argmax(axis=1), target_names = name_labels))"
      ]
    },
    {
      "cell_type": "markdown",
      "metadata": {
        "id": "hfq2Y3gWVohe"
      },
      "source": [
        "**penjelasn**\n",
        "\n",
        " mencetak laporan klasifikasi yang memberikan info rinci ttg kinerja model dlm melakukan klasifikasi pada data pengujian.\n",
        "\n",
        " - fungsi dari modul sklearn.metrics\n",
        " - y_test.argmax(axis=1),label asli dari data uji yg diubah jdi bentuk satu-hot encoded.\n",
        " - predictions.argmax(axis=1), hasil prediksi\n"
      ]
    },
    {
      "cell_type": "code",
      "execution_count": null,
      "metadata": {
        "colab": {
          "background_save": true
        },
        "id": "mIETfqMu7nv1",
        "outputId": "39cb3e33-3522-4c02-a347-82bd7e7afec8"
      },
      "outputs": [
        {
          "data": {
            "text/plain": [
              "[<matplotlib.lines.Line2D at 0x7e682402a860>]"
            ]
          },
          "execution_count": 59,
          "metadata": {},
          "output_type": "execute_result"
        },
        {
          "data": {
            "image/png": "[encoded data removed]",
            "text/plain": [
              "<Figure size 640x480 with 1 Axes>"
            ]
          },
          "metadata": {},
          "output_type": "display_data"
        }
      ],
      "source": [
        "# Visualize loss value for each epoch\n",
        "plt.plot(history.history['val_loss'])"
      ]
    },
    {
      "cell_type": "markdown",
      "metadata": {
        "id": "aF8Y_Ju-WdXG"
      },
      "source": [
        "visualisasi grafik yang menampilkan perubahan nilai loss pada setiap epoch selama proses pelatihan model,"
      ]
    },
    {
      "cell_type": "code",
      "execution_count": null,
      "metadata": {
        "colab": {
          "background_save": true
        },
        "id": "mNUP1QP17vas",
        "outputId": "d451b2b3-03b5-44b5-d54a-cc0b0ffcd78b"
      },
      "outputs": [
        {
          "data": {
            "text/plain": [
              "dict_keys(['loss', 'accuracy', 'val_loss', 'val_accuracy'])"
            ]
          },
          "execution_count": 60,
          "metadata": {},
          "output_type": "execute_result"
        }
      ],
      "source": [
        "# You can also check the another metrics\n",
        "history.history.keys()"
      ]
    },
    {
      "cell_type": "markdown",
      "metadata": {
        "id": "KZ0fSkQgW5Bl"
      },
      "source": [
        "mengakses kunci atau nama-nama metrik yang disimpan dalam variabel history\n",
        "\n",
        "history berisi info metrik seperti loss, akurasi, val_loss, dan val_accuracy yang dihitung pada setiap epoch selama proses pelatihan.\n",
        "\n",
        "- loss: Nilai loss pada tiap epoch pada data latih.\n",
        "- accuracy: Nilai akurasi pada tiap epoch\n",
        "- val_loss: Nilai loss pada tiap epoch pada data validasi.\n",
        "- val_accuracy: Nilai akurasi pada tiap epoch pada data validasi."
      ]
    },
    {
      "cell_type": "code",
      "execution_count": null,
      "metadata": {
        "colab": {
          "background_save": true
        },
        "id": "VwEZzjEa716s",
        "outputId": "fc7c14e0-b30a-4f4c-a6d2-30a40db6eec3"
      },
      "outputs": [
        {
          "data": {
            "text/plain": [
              "[<matplotlib.lines.Line2D at 0x7e68258f8100>]"
            ]
          },
          "execution_count": 61,
          "metadata": {},
          "output_type": "execute_result"
        },
        {
          "data": {
            "image/png": "[encoded data removed]",
            "text/plain": [
              "<Figure size 640x480 with 1 Axes>"
            ]
          },
          "metadata": {},
          "output_type": "display_data"
        }
      ],
      "source": [
        "# Check the model performance by validation accuracy\n",
        "plt.plot(history.history['val_accuracy'])\n",
        "\n",
        "# membuat visualisasi grafik"
      ]
    },
    {
      "cell_type": "markdown",
      "source": [
        "untuk membuat visualisasi grafik yang menampilkan perubahan nilai akurasi pada setiap epoch selama proses pelatihan model pada data validasi."
      ],
      "metadata": {
        "id": "oEjfItr8GThv"
      }
    },
    {
      "cell_type": "markdown",
      "metadata": {
        "id": "D0rviDyl79Bk"
      },
      "source": [
        "# Save The Model"
      ]
    },
    {
      "cell_type": "code",
      "execution_count": null,
      "metadata": {
        "colab": {
          "background_save": true
        },
        "id": "QZ4ftlmq76nC",
        "outputId": "f5d9f0e5-305d-4d5e-f791-109ede5d8c27"
      },
      "outputs": [
        {
          "name": "stderr",
          "output_type": "stream",
          "text": [
            "/usr/local/lib/python3.10/dist-packages/keras/src/engine/training.py:3079: UserWarning: You are saving your model as an HDF5 file via `model.save()`. This file format is considered legacy. We recommend using instead the native Keras format, e.g. `model.save('my_model.keras')`.\n",
            "  saving_api.save_model(\n"
          ]
        }
      ],
      "source": [
        "# The result will show in colab directory\n",
        "network.save('network', save_format= 'h5')"
      ]
    },
    {
      "cell_type": "markdown",
      "source": [
        "untuk menyimpan model neural network ke dalam file dalam format Hierarchical Data Format version 5 (HDF5)\n",
        "\n",
        "Fungsi ini berasal dari API Keras/TensorFlow yang digunakan untuk menyimpan model ke dalam file pada sistem penyimpanan (disk)."
      ],
      "metadata": {
        "id": "vZlrToGYGi7I"
      }
    },
    {
      "cell_type": "markdown",
      "metadata": {
        "id": "A3EWZVrz0YDV"
      },
      "source": [
        "# Testing on Real Image"
      ]
    },
    {
      "cell_type": "code",
      "execution_count": null,
      "metadata": {
        "colab": {
          "background_save": true
        },
        "id": "1wUedJB-0Z_q"
      },
      "outputs": [],
      "source": [
        "# Import library\n",
        "from tensorflow.keras.models import load_model"
      ]
    },
    {
      "cell_type": "markdown",
      "source": [
        "tensorflow.keras.models. Fungsi ini digunakan untuk memuat kembali model yang telah disimpan sebelumnya."
      ],
      "metadata": {
        "id": "TX9m8a8tHS0F"
      }
    },
    {
      "cell_type": "code",
      "execution_count": null,
      "metadata": {
        "colab": {
          "background_save": true
        },
        "id": "D6E24QOm0hiB"
      },
      "outputs": [],
      "source": [
        "# Load saved network\n",
        "load_network = load_model('network')"
      ]
    },
    {
      "cell_type": "markdown",
      "source": [
        "untuk memuat model neural network yang disimpan dengan nama 'network'"
      ],
      "metadata": {
        "id": "Kkg4PiLqHX1P"
      }
    },
    {
      "cell_type": "code",
      "execution_count": null,
      "metadata": {
        "colab": {
          "background_save": true
        },
        "id": "0cB7lmOc0nlR",
        "outputId": "ac0b4e06-daf0-448b-9c49-dbfdf17d7c9d"
      },
      "outputs": [
        {
          "name": "stdout",
          "output_type": "stream",
          "text": [
            "Model: \"sequential\"\n",
            "_________________________________________________________________\n",
            " Layer (type)                Output Shape              Param #   \n",
            "=================================================================\n",
            " conv2d (Conv2D)             (None, 26, 26, 32)        320       \n",
            "                                                                 \n",
            " max_pooling2d (MaxPooling2  (None, 13, 13, 32)        0         \n",
            " D)                                                              \n",
            "                                                                 \n",
            " conv2d_1 (Conv2D)           (None, 13, 13, 64)        18496     \n",
            "                                                                 \n",
            " max_pooling2d_1 (MaxPoolin  (None, 6, 6, 64)          0         \n",
            " g2D)                                                            \n",
            "                                                                 \n",
            " conv2d_2 (Conv2D)           (None, 4, 4, 128)         73856     \n",
            "                                                                 \n",
            " max_pooling2d_2 (MaxPoolin  (None, 2, 2, 128)         0         \n",
            " g2D)                                                            \n",
            "                                                                 \n",
            " flatten (Flatten)           (None, 512)               0         \n",
            "                                                                 \n",
            " dense (Dense)               (None, 64)                32832     \n",
            "                                                                 \n",
            " dense_1 (Dense)             (None, 128)               8320      \n",
            "                                                                 \n",
            " dense_2 (Dense)             (None, 36)                4644      \n",
            "                                                                 \n",
            "=================================================================\n",
            "Total params: 138468 (540.89 KB)\n",
            "Trainable params: 138468 (540.89 KB)\n",
            "Non-trainable params: 0 (0.00 Byte)\n",
            "_________________________________________________________________\n"
          ]
        }
      ],
      "source": [
        "# Check summary\n",
        "load_network.summary()"
      ]
    },
    {
      "cell_type": "markdown",
      "source": [
        "menampilkan ringkasan (summary) dari model neural network"
      ],
      "metadata": {
        "id": "LKxnd9CqHdeV"
      }
    },
    {
      "cell_type": "code",
      "execution_count": null,
      "metadata": {
        "id": "iBGBUCvAJAFx"
      },
      "outputs": [],
      "source": [
        "#Load Gdrive\n",
        "from google.colab import drive\n",
        "drive.mount('/content/drive')"
      ]
    },
    {
      "cell_type": "code",
      "execution_count": null,
      "metadata": {
        "id": "hbnaTxZK07JW"
      },
      "outputs": [],
      "source": [
        "# Load Image\n",
        "import cv2\n",
        "from google.colab.patches import cv2_imshow\n",
        "\n",
        "img = cv2.imread('/content/drive/MyDrive/MACHINE LEARNING/b_small.jpeg')\n",
        "cv2_imshow(img)"
      ]
    },
    {
      "cell_type": "markdown",
      "source": [
        "Memuat gambar dari path yang telah ditentukan ke dalam variabel img kemudian Menampilkan gambar yang telah dimuat."
      ],
      "metadata": {
        "id": "imCwYBbiHpBQ"
      }
    },
    {
      "cell_type": "code",
      "execution_count": null,
      "metadata": {
        "id": "EfDOYN6D1OZ9"
      },
      "outputs": [],
      "source": [
        "# Check shape\n",
        "img.shape"
      ]
    },
    {
      "cell_type": "markdown",
      "source": [
        "melihat dimensi/gambar (shape) gambar telah dimuat"
      ],
      "metadata": {
        "id": "UNRpa412IFH6"
      }
    },
    {
      "cell_type": "code",
      "execution_count": null,
      "metadata": {
        "id": "7e6w1zaL1RW7"
      },
      "outputs": [],
      "source": [
        "# Convert to gray\n",
        "gray_img = cv2.cvtColor(img, cv2.COLOR_BGR2GRAY)\n",
        "\n",
        "# check shape\n",
        "gray_img.shape"
      ]
    },
    {
      "cell_type": "markdown",
      "source": [
        "Mengonversi gambar ke dalam format grayscale kemudian melihat dimensi (shape) dari gambar grayscale yang dihasilkan."
      ],
      "metadata": {
        "id": "JBLG3UlKIN0J"
      }
    },
    {
      "cell_type": "code",
      "execution_count": null,
      "metadata": {
        "id": "9_al0IF01c3q"
      },
      "outputs": [],
      "source": [
        "# Pre-process\n",
        "# Binary Threshold and Otsu\n",
        "value, thresh = cv2.threshold(gray_img, 0, 255, cv2.THRESH_BINARY + cv2.THRESH_OTSU)\n",
        "\n",
        "cv2_imshow(thresh)\n",
        "\n",
        "# print threshold value\n",
        "print(value)"
      ]
    },
    {
      "cell_type": "markdown",
      "source": [
        "proses binarisasi pada gambar menggunakan metode thresholding Otsu kemudian menampilkan gambar hasil thresholding."
      ],
      "metadata": {
        "id": "3kKPkZWiIhTg"
      }
    },
    {
      "cell_type": "code",
      "execution_count": null,
      "metadata": {
        "id": "dmjHswqd1wB5"
      },
      "outputs": [],
      "source": [
        "# Resize image in order to match network input shape -> 28*28\n",
        "img_resize = cv2.resize(gray_img, (28,28))\n",
        "cv2_imshow(img_resize)"
      ]
    },
    {
      "cell_type": "markdown",
      "source": [
        "Mengubah ukuran gambar menjadi 28x28 piksel,"
      ],
      "metadata": {
        "id": "aJPmg9eYI_c9"
      }
    },
    {
      "cell_type": "code",
      "execution_count": null,
      "metadata": {
        "id": "bZStKgUl2Kk_"
      },
      "outputs": [],
      "source": [
        "# Convert to float 32\n",
        "# and extend the dimension since network input shape is 28*28*1\n",
        "img_input = img_resize.astype('float32') / 255 # also perform normalization\n",
        "img_input = np.expand_dims(img_input, axis=-1) # insert depth\n",
        "\n",
        "# check shape\n",
        "img_input.shape"
      ]
    },
    {
      "cell_type": "markdown",
      "source": [
        "Mengonversi gambar menjadi tipe float32 kemudian melakukan normalisasi nilai piksel."
      ],
      "metadata": {
        "id": "aTbchm-JJGF2"
      }
    },
    {
      "cell_type": "code",
      "execution_count": null,
      "metadata": {
        "id": "7Xs7JwKj2lxr"
      },
      "outputs": [],
      "source": [
        "# Add \"amount of data\" as dimension\n",
        "img_input = np.reshape(img_input, (1,28,28,1))\n",
        "img_input.shape"
      ]
    },
    {
      "cell_type": "markdown",
      "source": [
        "memperluas dimensi gambar agar sesuai dengan input yang diharapkan oleh model (28x28x1)."
      ],
      "metadata": {
        "id": "bnqi2wqPJYck"
      }
    },
    {
      "cell_type": "code",
      "execution_count": null,
      "metadata": {
        "id": "fZLWIWLs2yuX"
      },
      "outputs": [],
      "source": [
        "# Make a predition\n",
        "prediction = load_network.predict(img_input)\n",
        "pred_label = np.argmax(prediction) # predict actual label\n",
        "pred_label"
      ]
    },
    {
      "cell_type": "markdown",
      "source": [
        "Melakukan prediksi label, pred_label akan berisi label yang diprediksi untuk gambar yang dimasukkan."
      ],
      "metadata": {
        "id": "7Dgety8LJfVt"
      }
    },
    {
      "cell_type": "code",
      "execution_count": null,
      "metadata": {
        "id": "72Pl04hq3WNz"
      },
      "outputs": [],
      "source": [
        "# check label for 6\n",
        "name_labels[6]"
      ]
    },
    {
      "cell_type": "markdown",
      "source": [
        "Mengecek label yang sesuai dengan nilai label 6 dari dataset."
      ],
      "metadata": {
        "id": "fD2pf3bDJ9KJ"
      }
    }
  ],
  "metadata": {
    "accelerator": "GPU",
    "colab": {
      "provenance": [],
      "include_colab_link": true
    },
    "kernelspec": {
      "display_name": "Python 3",
      "name": "python3"
    },
    "language_info": {
      "name": "python"
    }
  },
  "nbformat": 4,
  "nbformat_minor": 0
}